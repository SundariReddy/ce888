{
  "nbformat": 4,
  "nbformat_minor": 0,
  "metadata": {
    "colab": {
      "name": "Lab 3 facebook.ipynb",
      "provenance": [],
      "collapsed_sections": []
    },
    "kernelspec": {
      "name": "python3",
      "display_name": "Python 3"
    },
    "language_info": {
      "name": "python"
    }
  },
  "cells": [
    {
      "cell_type": "markdown",
      "source": [
        "Lab 3"
      ],
      "metadata": {
        "id": "yJ7LUsLTsds0"
      }
    },
    {
      "cell_type": "code",
      "source": [
        "%matplotlib inline\n",
        "import matplotlib\n",
        "import numpy as np\n",
        "import matplotlib.pyplot as plt\n",
        "import pandas as pd\n",
        "import seaborn as sns\n",
        "\n",
        "import itertools\n",
        "\n",
        "from sklearn.model_selection import train_test_split, StratifiedShuffleSplit, cross_val_score\n",
        "\n",
        "from sklearn.preprocessing import LabelEncoder, StandardScaler, OneHotEncoder\n",
        "from sklearn.compose import ColumnTransformer\n",
        "from sklearn.base import BaseEstimator, TransformerMixin\n",
        "from sklearn.pipeline import Pipeline\n",
        "\n",
        "from sklearn.tree import DecisionTreeRegressor\n",
        "from sklearn.ensemble import RandomForestRegressor, GradientBoostingRegressor, RandomForestClassifier, ExtraTreesClassifier\n",
        "from sklearn.linear_model import SGDRegressor, BayesianRidge\n",
        "from sklearn.metrics import mean_squared_error as mse\n",
        "from sklearn.metrics import mean_absolute_error as mae\n",
        "from sklearn.metrics import accuracy_score as acc\n",
        "from sklearn.metrics import make_scorer, confusion_matrix\n",
        "from sklearn.dummy import DummyRegressor, DummyClassifier"
      ],
      "metadata": {
        "id": "FE7Dsi6vs3W2"
      },
      "execution_count": null,
      "outputs": []
    },
    {
      "cell_type": "markdown",
      "source": [
        "We have loaded the necessary libraries above\n",
        "Now let's load the data"
      ],
      "metadata": {
        "id": "D0kwg9YutDEU"
      }
    },
    {
      "cell_type": "code",
      "source": [
        "df = pd.read_csv(\"https://raw.githubusercontent.com/albanda/ce888/master/lab3/dataset_Facebook.csv\", delimiter=\";\")\n",
        "df"
      ],
      "metadata": {
        "colab": {
          "base_uri": "https://localhost:8080/",
          "height": 589
        },
        "id": "NXK1ZpHftEhX",
        "outputId": "0cd6848b-2969-4e2e-9046-12ec0e7a1a44"
      },
      "execution_count": null,
      "outputs": [
        {
          "output_type": "execute_result",
          "data": {
            "text/html": [
              "\n",
              "  <div id=\"df-e23a9ddb-9ea8-4237-9259-216398f97b08\">\n",
              "    <div class=\"colab-df-container\">\n",
              "      <div>\n",
              "<style scoped>\n",
              "    .dataframe tbody tr th:only-of-type {\n",
              "        vertical-align: middle;\n",
              "    }\n",
              "\n",
              "    .dataframe tbody tr th {\n",
              "        vertical-align: top;\n",
              "    }\n",
              "\n",
              "    .dataframe thead th {\n",
              "        text-align: right;\n",
              "    }\n",
              "</style>\n",
              "<table border=\"1\" class=\"dataframe\">\n",
              "  <thead>\n",
              "    <tr style=\"text-align: right;\">\n",
              "      <th></th>\n",
              "      <th>Page total likes</th>\n",
              "      <th>Type</th>\n",
              "      <th>Category</th>\n",
              "      <th>Post Month</th>\n",
              "      <th>Post Weekday</th>\n",
              "      <th>Post Hour</th>\n",
              "      <th>Paid</th>\n",
              "      <th>Lifetime Post Total Reach</th>\n",
              "      <th>Lifetime Post Total Impressions</th>\n",
              "      <th>Lifetime Engaged Users</th>\n",
              "      <th>Lifetime Post Consumers</th>\n",
              "      <th>Lifetime Post Consumptions</th>\n",
              "      <th>Lifetime Post Impressions by people who have liked your Page</th>\n",
              "      <th>Lifetime Post reach by people who like your Page</th>\n",
              "      <th>Lifetime People who have liked your Page and engaged with your post</th>\n",
              "      <th>comment</th>\n",
              "      <th>like</th>\n",
              "      <th>share</th>\n",
              "      <th>Total Interactions</th>\n",
              "    </tr>\n",
              "  </thead>\n",
              "  <tbody>\n",
              "    <tr>\n",
              "      <th>0</th>\n",
              "      <td>139441</td>\n",
              "      <td>Photo</td>\n",
              "      <td>2</td>\n",
              "      <td>12</td>\n",
              "      <td>4</td>\n",
              "      <td>3</td>\n",
              "      <td>0.0</td>\n",
              "      <td>2752</td>\n",
              "      <td>5091</td>\n",
              "      <td>178</td>\n",
              "      <td>109</td>\n",
              "      <td>159</td>\n",
              "      <td>3078</td>\n",
              "      <td>1640</td>\n",
              "      <td>119</td>\n",
              "      <td>4</td>\n",
              "      <td>79.0</td>\n",
              "      <td>17.0</td>\n",
              "      <td>100</td>\n",
              "    </tr>\n",
              "    <tr>\n",
              "      <th>1</th>\n",
              "      <td>139441</td>\n",
              "      <td>Status</td>\n",
              "      <td>2</td>\n",
              "      <td>12</td>\n",
              "      <td>3</td>\n",
              "      <td>10</td>\n",
              "      <td>0.0</td>\n",
              "      <td>10460</td>\n",
              "      <td>19057</td>\n",
              "      <td>1457</td>\n",
              "      <td>1361</td>\n",
              "      <td>1674</td>\n",
              "      <td>11710</td>\n",
              "      <td>6112</td>\n",
              "      <td>1108</td>\n",
              "      <td>5</td>\n",
              "      <td>130.0</td>\n",
              "      <td>29.0</td>\n",
              "      <td>164</td>\n",
              "    </tr>\n",
              "    <tr>\n",
              "      <th>2</th>\n",
              "      <td>139441</td>\n",
              "      <td>Photo</td>\n",
              "      <td>3</td>\n",
              "      <td>12</td>\n",
              "      <td>3</td>\n",
              "      <td>3</td>\n",
              "      <td>0.0</td>\n",
              "      <td>2413</td>\n",
              "      <td>4373</td>\n",
              "      <td>177</td>\n",
              "      <td>113</td>\n",
              "      <td>154</td>\n",
              "      <td>2812</td>\n",
              "      <td>1503</td>\n",
              "      <td>132</td>\n",
              "      <td>0</td>\n",
              "      <td>66.0</td>\n",
              "      <td>14.0</td>\n",
              "      <td>80</td>\n",
              "    </tr>\n",
              "    <tr>\n",
              "      <th>3</th>\n",
              "      <td>139441</td>\n",
              "      <td>Photo</td>\n",
              "      <td>2</td>\n",
              "      <td>12</td>\n",
              "      <td>2</td>\n",
              "      <td>10</td>\n",
              "      <td>1.0</td>\n",
              "      <td>50128</td>\n",
              "      <td>87991</td>\n",
              "      <td>2211</td>\n",
              "      <td>790</td>\n",
              "      <td>1119</td>\n",
              "      <td>61027</td>\n",
              "      <td>32048</td>\n",
              "      <td>1386</td>\n",
              "      <td>58</td>\n",
              "      <td>1572.0</td>\n",
              "      <td>147.0</td>\n",
              "      <td>1777</td>\n",
              "    </tr>\n",
              "    <tr>\n",
              "      <th>4</th>\n",
              "      <td>139441</td>\n",
              "      <td>Photo</td>\n",
              "      <td>2</td>\n",
              "      <td>12</td>\n",
              "      <td>2</td>\n",
              "      <td>3</td>\n",
              "      <td>0.0</td>\n",
              "      <td>7244</td>\n",
              "      <td>13594</td>\n",
              "      <td>671</td>\n",
              "      <td>410</td>\n",
              "      <td>580</td>\n",
              "      <td>6228</td>\n",
              "      <td>3200</td>\n",
              "      <td>396</td>\n",
              "      <td>19</td>\n",
              "      <td>325.0</td>\n",
              "      <td>49.0</td>\n",
              "      <td>393</td>\n",
              "    </tr>\n",
              "    <tr>\n",
              "      <th>...</th>\n",
              "      <td>...</td>\n",
              "      <td>...</td>\n",
              "      <td>...</td>\n",
              "      <td>...</td>\n",
              "      <td>...</td>\n",
              "      <td>...</td>\n",
              "      <td>...</td>\n",
              "      <td>...</td>\n",
              "      <td>...</td>\n",
              "      <td>...</td>\n",
              "      <td>...</td>\n",
              "      <td>...</td>\n",
              "      <td>...</td>\n",
              "      <td>...</td>\n",
              "      <td>...</td>\n",
              "      <td>...</td>\n",
              "      <td>...</td>\n",
              "      <td>...</td>\n",
              "      <td>...</td>\n",
              "    </tr>\n",
              "    <tr>\n",
              "      <th>495</th>\n",
              "      <td>85093</td>\n",
              "      <td>Photo</td>\n",
              "      <td>3</td>\n",
              "      <td>1</td>\n",
              "      <td>7</td>\n",
              "      <td>2</td>\n",
              "      <td>0.0</td>\n",
              "      <td>4684</td>\n",
              "      <td>7536</td>\n",
              "      <td>733</td>\n",
              "      <td>708</td>\n",
              "      <td>985</td>\n",
              "      <td>4750</td>\n",
              "      <td>2876</td>\n",
              "      <td>392</td>\n",
              "      <td>5</td>\n",
              "      <td>53.0</td>\n",
              "      <td>26.0</td>\n",
              "      <td>84</td>\n",
              "    </tr>\n",
              "    <tr>\n",
              "      <th>496</th>\n",
              "      <td>81370</td>\n",
              "      <td>Photo</td>\n",
              "      <td>2</td>\n",
              "      <td>1</td>\n",
              "      <td>5</td>\n",
              "      <td>8</td>\n",
              "      <td>0.0</td>\n",
              "      <td>3480</td>\n",
              "      <td>6229</td>\n",
              "      <td>537</td>\n",
              "      <td>508</td>\n",
              "      <td>687</td>\n",
              "      <td>3961</td>\n",
              "      <td>2104</td>\n",
              "      <td>301</td>\n",
              "      <td>0</td>\n",
              "      <td>53.0</td>\n",
              "      <td>22.0</td>\n",
              "      <td>75</td>\n",
              "    </tr>\n",
              "    <tr>\n",
              "      <th>497</th>\n",
              "      <td>81370</td>\n",
              "      <td>Photo</td>\n",
              "      <td>1</td>\n",
              "      <td>1</td>\n",
              "      <td>5</td>\n",
              "      <td>2</td>\n",
              "      <td>0.0</td>\n",
              "      <td>3778</td>\n",
              "      <td>7216</td>\n",
              "      <td>625</td>\n",
              "      <td>572</td>\n",
              "      <td>795</td>\n",
              "      <td>4742</td>\n",
              "      <td>2388</td>\n",
              "      <td>363</td>\n",
              "      <td>4</td>\n",
              "      <td>93.0</td>\n",
              "      <td>18.0</td>\n",
              "      <td>115</td>\n",
              "    </tr>\n",
              "    <tr>\n",
              "      <th>498</th>\n",
              "      <td>81370</td>\n",
              "      <td>Photo</td>\n",
              "      <td>3</td>\n",
              "      <td>1</td>\n",
              "      <td>4</td>\n",
              "      <td>11</td>\n",
              "      <td>0.0</td>\n",
              "      <td>4156</td>\n",
              "      <td>7564</td>\n",
              "      <td>626</td>\n",
              "      <td>574</td>\n",
              "      <td>832</td>\n",
              "      <td>4534</td>\n",
              "      <td>2452</td>\n",
              "      <td>370</td>\n",
              "      <td>7</td>\n",
              "      <td>91.0</td>\n",
              "      <td>38.0</td>\n",
              "      <td>136</td>\n",
              "    </tr>\n",
              "    <tr>\n",
              "      <th>499</th>\n",
              "      <td>81370</td>\n",
              "      <td>Photo</td>\n",
              "      <td>2</td>\n",
              "      <td>1</td>\n",
              "      <td>4</td>\n",
              "      <td>4</td>\n",
              "      <td>NaN</td>\n",
              "      <td>4188</td>\n",
              "      <td>7292</td>\n",
              "      <td>564</td>\n",
              "      <td>524</td>\n",
              "      <td>743</td>\n",
              "      <td>3861</td>\n",
              "      <td>2200</td>\n",
              "      <td>316</td>\n",
              "      <td>0</td>\n",
              "      <td>91.0</td>\n",
              "      <td>28.0</td>\n",
              "      <td>119</td>\n",
              "    </tr>\n",
              "  </tbody>\n",
              "</table>\n",
              "<p>500 rows × 19 columns</p>\n",
              "</div>\n",
              "      <button class=\"colab-df-convert\" onclick=\"convertToInteractive('df-e23a9ddb-9ea8-4237-9259-216398f97b08')\"\n",
              "              title=\"Convert this dataframe to an interactive table.\"\n",
              "              style=\"display:none;\">\n",
              "        \n",
              "  <svg xmlns=\"http://www.w3.org/2000/svg\" height=\"24px\"viewBox=\"0 0 24 24\"\n",
              "       width=\"24px\">\n",
              "    <path d=\"M0 0h24v24H0V0z\" fill=\"none\"/>\n",
              "    <path d=\"M18.56 5.44l.94 2.06.94-2.06 2.06-.94-2.06-.94-.94-2.06-.94 2.06-2.06.94zm-11 1L8.5 8.5l.94-2.06 2.06-.94-2.06-.94L8.5 2.5l-.94 2.06-2.06.94zm10 10l.94 2.06.94-2.06 2.06-.94-2.06-.94-.94-2.06-.94 2.06-2.06.94z\"/><path d=\"M17.41 7.96l-1.37-1.37c-.4-.4-.92-.59-1.43-.59-.52 0-1.04.2-1.43.59L10.3 9.45l-7.72 7.72c-.78.78-.78 2.05 0 2.83L4 21.41c.39.39.9.59 1.41.59.51 0 1.02-.2 1.41-.59l7.78-7.78 2.81-2.81c.8-.78.8-2.07 0-2.86zM5.41 20L4 18.59l7.72-7.72 1.47 1.35L5.41 20z\"/>\n",
              "  </svg>\n",
              "      </button>\n",
              "      \n",
              "  <style>\n",
              "    .colab-df-container {\n",
              "      display:flex;\n",
              "      flex-wrap:wrap;\n",
              "      gap: 12px;\n",
              "    }\n",
              "\n",
              "    .colab-df-convert {\n",
              "      background-color: #E8F0FE;\n",
              "      border: none;\n",
              "      border-radius: 50%;\n",
              "      cursor: pointer;\n",
              "      display: none;\n",
              "      fill: #1967D2;\n",
              "      height: 32px;\n",
              "      padding: 0 0 0 0;\n",
              "      width: 32px;\n",
              "    }\n",
              "\n",
              "    .colab-df-convert:hover {\n",
              "      background-color: #E2EBFA;\n",
              "      box-shadow: 0px 1px 2px rgba(60, 64, 67, 0.3), 0px 1px 3px 1px rgba(60, 64, 67, 0.15);\n",
              "      fill: #174EA6;\n",
              "    }\n",
              "\n",
              "    [theme=dark] .colab-df-convert {\n",
              "      background-color: #3B4455;\n",
              "      fill: #D2E3FC;\n",
              "    }\n",
              "\n",
              "    [theme=dark] .colab-df-convert:hover {\n",
              "      background-color: #434B5C;\n",
              "      box-shadow: 0px 1px 3px 1px rgba(0, 0, 0, 0.15);\n",
              "      filter: drop-shadow(0px 1px 2px rgba(0, 0, 0, 0.3));\n",
              "      fill: #FFFFFF;\n",
              "    }\n",
              "  </style>\n",
              "\n",
              "      <script>\n",
              "        const buttonEl =\n",
              "          document.querySelector('#df-e23a9ddb-9ea8-4237-9259-216398f97b08 button.colab-df-convert');\n",
              "        buttonEl.style.display =\n",
              "          google.colab.kernel.accessAllowed ? 'block' : 'none';\n",
              "\n",
              "        async function convertToInteractive(key) {\n",
              "          const element = document.querySelector('#df-e23a9ddb-9ea8-4237-9259-216398f97b08');\n",
              "          const dataTable =\n",
              "            await google.colab.kernel.invokeFunction('convertToInteractive',\n",
              "                                                     [key], {});\n",
              "          if (!dataTable) return;\n",
              "\n",
              "          const docLinkHtml = 'Like what you see? Visit the ' +\n",
              "            '<a target=\"_blank\" href=https://colab.research.google.com/notebooks/data_table.ipynb>data table notebook</a>'\n",
              "            + ' to learn more about interactive tables.';\n",
              "          element.innerHTML = '';\n",
              "          dataTable['output_type'] = 'display_data';\n",
              "          await google.colab.output.renderOutput(dataTable, element);\n",
              "          const docLink = document.createElement('div');\n",
              "          docLink.innerHTML = docLinkHtml;\n",
              "          element.appendChild(docLink);\n",
              "        }\n",
              "      </script>\n",
              "    </div>\n",
              "  </div>\n",
              "  "
            ],
            "text/plain": [
              "     Page total likes    Type  Category  ...    like  share  Total Interactions\n",
              "0              139441   Photo         2  ...    79.0   17.0                 100\n",
              "1              139441  Status         2  ...   130.0   29.0                 164\n",
              "2              139441   Photo         3  ...    66.0   14.0                  80\n",
              "3              139441   Photo         2  ...  1572.0  147.0                1777\n",
              "4              139441   Photo         2  ...   325.0   49.0                 393\n",
              "..                ...     ...       ...  ...     ...    ...                 ...\n",
              "495             85093   Photo         3  ...    53.0   26.0                  84\n",
              "496             81370   Photo         2  ...    53.0   22.0                  75\n",
              "497             81370   Photo         1  ...    93.0   18.0                 115\n",
              "498             81370   Photo         3  ...    91.0   38.0                 136\n",
              "499             81370   Photo         2  ...    91.0   28.0                 119\n",
              "\n",
              "[500 rows x 19 columns]"
            ]
          },
          "metadata": {},
          "execution_count": 2
        }
      ]
    },
    {
      "cell_type": "code",
      "source": [
        "df.info()"
      ],
      "metadata": {
        "colab": {
          "base_uri": "https://localhost:8080/"
        },
        "id": "9SyOCl7QtXF2",
        "outputId": "e02b8fa4-08f0-436f-e62f-2fae6e6d884e"
      },
      "execution_count": null,
      "outputs": [
        {
          "output_type": "stream",
          "name": "stdout",
          "text": [
            "<class 'pandas.core.frame.DataFrame'>\n",
            "RangeIndex: 500 entries, 0 to 499\n",
            "Data columns (total 19 columns):\n",
            " #   Column                                                               Non-Null Count  Dtype  \n",
            "---  ------                                                               --------------  -----  \n",
            " 0   Page total likes                                                     500 non-null    int64  \n",
            " 1   Type                                                                 500 non-null    object \n",
            " 2   Category                                                             500 non-null    int64  \n",
            " 3   Post Month                                                           500 non-null    int64  \n",
            " 4   Post Weekday                                                         500 non-null    int64  \n",
            " 5   Post Hour                                                            500 non-null    int64  \n",
            " 6   Paid                                                                 499 non-null    float64\n",
            " 7   Lifetime Post Total Reach                                            500 non-null    int64  \n",
            " 8   Lifetime Post Total Impressions                                      500 non-null    int64  \n",
            " 9   Lifetime Engaged Users                                               500 non-null    int64  \n",
            " 10  Lifetime Post Consumers                                              500 non-null    int64  \n",
            " 11  Lifetime Post Consumptions                                           500 non-null    int64  \n",
            " 12  Lifetime Post Impressions by people who have liked your Page         500 non-null    int64  \n",
            " 13  Lifetime Post reach by people who like your Page                     500 non-null    int64  \n",
            " 14  Lifetime People who have liked your Page and engaged with your post  500 non-null    int64  \n",
            " 15  comment                                                              500 non-null    int64  \n",
            " 16  like                                                                 499 non-null    float64\n",
            " 17  share                                                                496 non-null    float64\n",
            " 18  Total Interactions                                                   500 non-null    int64  \n",
            "dtypes: float64(3), int64(15), object(1)\n",
            "memory usage: 74.3+ KB\n"
          ]
        }
      ]
    },
    {
      "cell_type": "markdown",
      "source": [
        "Only two columns have missing values. Which ones?\n",
        "\n",
        "Most columns are numerical (int64 or float64). Column 'Type' is of type 'object', which, as it comes from a csv file, typically means strings. We can see this in the output of cell 2. It looks like it's a categorical feature, so we'll check how many categories there are and how many examples for each."
      ],
      "metadata": {
        "id": "HzpH1x9Ctfdk"
      }
    },
    {
      "cell_type": "code",
      "source": [
        "df['Type'].value_counts()"
      ],
      "metadata": {
        "colab": {
          "base_uri": "https://localhost:8080/"
        },
        "id": "6Wsgm4B6thK_",
        "outputId": "41a67e49-720c-4b95-807c-e1ce78d529b2"
      },
      "execution_count": null,
      "outputs": [
        {
          "output_type": "execute_result",
          "data": {
            "text/plain": [
              "Photo     426\n",
              "Status     45\n",
              "Link       22\n",
              "Video       7\n",
              "Name: Type, dtype: int64"
            ]
          },
          "metadata": {},
          "execution_count": 4
        }
      ]
    },
    {
      "cell_type": "code",
      "source": [
        "df.describe()"
      ],
      "metadata": {
        "colab": {
          "base_uri": "https://localhost:8080/",
          "height": 486
        },
        "id": "2cLJSpu_tokL",
        "outputId": "3eb74f85-457e-458d-dd03-0190f817f6e1"
      },
      "execution_count": null,
      "outputs": [
        {
          "output_type": "execute_result",
          "data": {
            "text/html": [
              "\n",
              "  <div id=\"df-f6a0432f-1d5f-453c-9a7a-d8c67bfd103e\">\n",
              "    <div class=\"colab-df-container\">\n",
              "      <div>\n",
              "<style scoped>\n",
              "    .dataframe tbody tr th:only-of-type {\n",
              "        vertical-align: middle;\n",
              "    }\n",
              "\n",
              "    .dataframe tbody tr th {\n",
              "        vertical-align: top;\n",
              "    }\n",
              "\n",
              "    .dataframe thead th {\n",
              "        text-align: right;\n",
              "    }\n",
              "</style>\n",
              "<table border=\"1\" class=\"dataframe\">\n",
              "  <thead>\n",
              "    <tr style=\"text-align: right;\">\n",
              "      <th></th>\n",
              "      <th>Page total likes</th>\n",
              "      <th>Category</th>\n",
              "      <th>Post Month</th>\n",
              "      <th>Post Weekday</th>\n",
              "      <th>Post Hour</th>\n",
              "      <th>Paid</th>\n",
              "      <th>Lifetime Post Total Reach</th>\n",
              "      <th>Lifetime Post Total Impressions</th>\n",
              "      <th>Lifetime Engaged Users</th>\n",
              "      <th>Lifetime Post Consumers</th>\n",
              "      <th>Lifetime Post Consumptions</th>\n",
              "      <th>Lifetime Post Impressions by people who have liked your Page</th>\n",
              "      <th>Lifetime Post reach by people who like your Page</th>\n",
              "      <th>Lifetime People who have liked your Page and engaged with your post</th>\n",
              "      <th>comment</th>\n",
              "      <th>like</th>\n",
              "      <th>share</th>\n",
              "      <th>Total Interactions</th>\n",
              "    </tr>\n",
              "  </thead>\n",
              "  <tbody>\n",
              "    <tr>\n",
              "      <th>count</th>\n",
              "      <td>500.000000</td>\n",
              "      <td>500.000000</td>\n",
              "      <td>500.000000</td>\n",
              "      <td>500.000000</td>\n",
              "      <td>500.000000</td>\n",
              "      <td>499.000000</td>\n",
              "      <td>500.00000</td>\n",
              "      <td>5.000000e+02</td>\n",
              "      <td>500.000000</td>\n",
              "      <td>500.000000</td>\n",
              "      <td>500.000000</td>\n",
              "      <td>5.000000e+02</td>\n",
              "      <td>500.000000</td>\n",
              "      <td>500.000000</td>\n",
              "      <td>500.00000</td>\n",
              "      <td>499.000000</td>\n",
              "      <td>496.000000</td>\n",
              "      <td>500.000000</td>\n",
              "    </tr>\n",
              "    <tr>\n",
              "      <th>mean</th>\n",
              "      <td>123194.176000</td>\n",
              "      <td>1.880000</td>\n",
              "      <td>7.038000</td>\n",
              "      <td>4.150000</td>\n",
              "      <td>7.840000</td>\n",
              "      <td>0.278557</td>\n",
              "      <td>13903.36000</td>\n",
              "      <td>2.958595e+04</td>\n",
              "      <td>920.344000</td>\n",
              "      <td>798.772000</td>\n",
              "      <td>1415.130000</td>\n",
              "      <td>1.676638e+04</td>\n",
              "      <td>6585.488000</td>\n",
              "      <td>609.986000</td>\n",
              "      <td>7.48200</td>\n",
              "      <td>177.945892</td>\n",
              "      <td>27.266129</td>\n",
              "      <td>212.120000</td>\n",
              "    </tr>\n",
              "    <tr>\n",
              "      <th>std</th>\n",
              "      <td>16272.813214</td>\n",
              "      <td>0.852675</td>\n",
              "      <td>3.307936</td>\n",
              "      <td>2.030701</td>\n",
              "      <td>4.368589</td>\n",
              "      <td>0.448739</td>\n",
              "      <td>22740.78789</td>\n",
              "      <td>7.680325e+04</td>\n",
              "      <td>985.016636</td>\n",
              "      <td>882.505013</td>\n",
              "      <td>2000.594118</td>\n",
              "      <td>5.979102e+04</td>\n",
              "      <td>7682.009405</td>\n",
              "      <td>612.725618</td>\n",
              "      <td>21.18091</td>\n",
              "      <td>323.398742</td>\n",
              "      <td>42.613292</td>\n",
              "      <td>380.233118</td>\n",
              "    </tr>\n",
              "    <tr>\n",
              "      <th>min</th>\n",
              "      <td>81370.000000</td>\n",
              "      <td>1.000000</td>\n",
              "      <td>1.000000</td>\n",
              "      <td>1.000000</td>\n",
              "      <td>1.000000</td>\n",
              "      <td>0.000000</td>\n",
              "      <td>238.00000</td>\n",
              "      <td>5.700000e+02</td>\n",
              "      <td>9.000000</td>\n",
              "      <td>9.000000</td>\n",
              "      <td>9.000000</td>\n",
              "      <td>5.670000e+02</td>\n",
              "      <td>236.000000</td>\n",
              "      <td>9.000000</td>\n",
              "      <td>0.00000</td>\n",
              "      <td>0.000000</td>\n",
              "      <td>0.000000</td>\n",
              "      <td>0.000000</td>\n",
              "    </tr>\n",
              "    <tr>\n",
              "      <th>25%</th>\n",
              "      <td>112676.000000</td>\n",
              "      <td>1.000000</td>\n",
              "      <td>4.000000</td>\n",
              "      <td>2.000000</td>\n",
              "      <td>3.000000</td>\n",
              "      <td>0.000000</td>\n",
              "      <td>3315.00000</td>\n",
              "      <td>5.694750e+03</td>\n",
              "      <td>393.750000</td>\n",
              "      <td>332.500000</td>\n",
              "      <td>509.250000</td>\n",
              "      <td>3.969750e+03</td>\n",
              "      <td>2181.500000</td>\n",
              "      <td>291.000000</td>\n",
              "      <td>1.00000</td>\n",
              "      <td>56.500000</td>\n",
              "      <td>10.000000</td>\n",
              "      <td>71.000000</td>\n",
              "    </tr>\n",
              "    <tr>\n",
              "      <th>50%</th>\n",
              "      <td>129600.000000</td>\n",
              "      <td>2.000000</td>\n",
              "      <td>7.000000</td>\n",
              "      <td>4.000000</td>\n",
              "      <td>9.000000</td>\n",
              "      <td>0.000000</td>\n",
              "      <td>5281.00000</td>\n",
              "      <td>9.051000e+03</td>\n",
              "      <td>625.500000</td>\n",
              "      <td>551.500000</td>\n",
              "      <td>851.000000</td>\n",
              "      <td>6.255500e+03</td>\n",
              "      <td>3417.000000</td>\n",
              "      <td>412.000000</td>\n",
              "      <td>3.00000</td>\n",
              "      <td>101.000000</td>\n",
              "      <td>19.000000</td>\n",
              "      <td>123.500000</td>\n",
              "    </tr>\n",
              "    <tr>\n",
              "      <th>75%</th>\n",
              "      <td>136393.000000</td>\n",
              "      <td>3.000000</td>\n",
              "      <td>10.000000</td>\n",
              "      <td>6.000000</td>\n",
              "      <td>11.000000</td>\n",
              "      <td>1.000000</td>\n",
              "      <td>13168.00000</td>\n",
              "      <td>2.208550e+04</td>\n",
              "      <td>1062.000000</td>\n",
              "      <td>955.500000</td>\n",
              "      <td>1463.000000</td>\n",
              "      <td>1.486050e+04</td>\n",
              "      <td>7989.000000</td>\n",
              "      <td>656.250000</td>\n",
              "      <td>7.00000</td>\n",
              "      <td>187.500000</td>\n",
              "      <td>32.250000</td>\n",
              "      <td>228.500000</td>\n",
              "    </tr>\n",
              "    <tr>\n",
              "      <th>max</th>\n",
              "      <td>139441.000000</td>\n",
              "      <td>3.000000</td>\n",
              "      <td>12.000000</td>\n",
              "      <td>7.000000</td>\n",
              "      <td>23.000000</td>\n",
              "      <td>1.000000</td>\n",
              "      <td>180480.00000</td>\n",
              "      <td>1.110282e+06</td>\n",
              "      <td>11452.000000</td>\n",
              "      <td>11328.000000</td>\n",
              "      <td>19779.000000</td>\n",
              "      <td>1.107833e+06</td>\n",
              "      <td>51456.000000</td>\n",
              "      <td>4376.000000</td>\n",
              "      <td>372.00000</td>\n",
              "      <td>5172.000000</td>\n",
              "      <td>790.000000</td>\n",
              "      <td>6334.000000</td>\n",
              "    </tr>\n",
              "  </tbody>\n",
              "</table>\n",
              "</div>\n",
              "      <button class=\"colab-df-convert\" onclick=\"convertToInteractive('df-f6a0432f-1d5f-453c-9a7a-d8c67bfd103e')\"\n",
              "              title=\"Convert this dataframe to an interactive table.\"\n",
              "              style=\"display:none;\">\n",
              "        \n",
              "  <svg xmlns=\"http://www.w3.org/2000/svg\" height=\"24px\"viewBox=\"0 0 24 24\"\n",
              "       width=\"24px\">\n",
              "    <path d=\"M0 0h24v24H0V0z\" fill=\"none\"/>\n",
              "    <path d=\"M18.56 5.44l.94 2.06.94-2.06 2.06-.94-2.06-.94-.94-2.06-.94 2.06-2.06.94zm-11 1L8.5 8.5l.94-2.06 2.06-.94-2.06-.94L8.5 2.5l-.94 2.06-2.06.94zm10 10l.94 2.06.94-2.06 2.06-.94-2.06-.94-.94-2.06-.94 2.06-2.06.94z\"/><path d=\"M17.41 7.96l-1.37-1.37c-.4-.4-.92-.59-1.43-.59-.52 0-1.04.2-1.43.59L10.3 9.45l-7.72 7.72c-.78.78-.78 2.05 0 2.83L4 21.41c.39.39.9.59 1.41.59.51 0 1.02-.2 1.41-.59l7.78-7.78 2.81-2.81c.8-.78.8-2.07 0-2.86zM5.41 20L4 18.59l7.72-7.72 1.47 1.35L5.41 20z\"/>\n",
              "  </svg>\n",
              "      </button>\n",
              "      \n",
              "  <style>\n",
              "    .colab-df-container {\n",
              "      display:flex;\n",
              "      flex-wrap:wrap;\n",
              "      gap: 12px;\n",
              "    }\n",
              "\n",
              "    .colab-df-convert {\n",
              "      background-color: #E8F0FE;\n",
              "      border: none;\n",
              "      border-radius: 50%;\n",
              "      cursor: pointer;\n",
              "      display: none;\n",
              "      fill: #1967D2;\n",
              "      height: 32px;\n",
              "      padding: 0 0 0 0;\n",
              "      width: 32px;\n",
              "    }\n",
              "\n",
              "    .colab-df-convert:hover {\n",
              "      background-color: #E2EBFA;\n",
              "      box-shadow: 0px 1px 2px rgba(60, 64, 67, 0.3), 0px 1px 3px 1px rgba(60, 64, 67, 0.15);\n",
              "      fill: #174EA6;\n",
              "    }\n",
              "\n",
              "    [theme=dark] .colab-df-convert {\n",
              "      background-color: #3B4455;\n",
              "      fill: #D2E3FC;\n",
              "    }\n",
              "\n",
              "    [theme=dark] .colab-df-convert:hover {\n",
              "      background-color: #434B5C;\n",
              "      box-shadow: 0px 1px 3px 1px rgba(0, 0, 0, 0.15);\n",
              "      filter: drop-shadow(0px 1px 2px rgba(0, 0, 0, 0.3));\n",
              "      fill: #FFFFFF;\n",
              "    }\n",
              "  </style>\n",
              "\n",
              "      <script>\n",
              "        const buttonEl =\n",
              "          document.querySelector('#df-f6a0432f-1d5f-453c-9a7a-d8c67bfd103e button.colab-df-convert');\n",
              "        buttonEl.style.display =\n",
              "          google.colab.kernel.accessAllowed ? 'block' : 'none';\n",
              "\n",
              "        async function convertToInteractive(key) {\n",
              "          const element = document.querySelector('#df-f6a0432f-1d5f-453c-9a7a-d8c67bfd103e');\n",
              "          const dataTable =\n",
              "            await google.colab.kernel.invokeFunction('convertToInteractive',\n",
              "                                                     [key], {});\n",
              "          if (!dataTable) return;\n",
              "\n",
              "          const docLinkHtml = 'Like what you see? Visit the ' +\n",
              "            '<a target=\"_blank\" href=https://colab.research.google.com/notebooks/data_table.ipynb>data table notebook</a>'\n",
              "            + ' to learn more about interactive tables.';\n",
              "          element.innerHTML = '';\n",
              "          dataTable['output_type'] = 'display_data';\n",
              "          await google.colab.output.renderOutput(dataTable, element);\n",
              "          const docLink = document.createElement('div');\n",
              "          docLink.innerHTML = docLinkHtml;\n",
              "          element.appendChild(docLink);\n",
              "        }\n",
              "      </script>\n",
              "    </div>\n",
              "  </div>\n",
              "  "
            ],
            "text/plain": [
              "       Page total likes    Category  ...       share  Total Interactions\n",
              "count        500.000000  500.000000  ...  496.000000          500.000000\n",
              "mean      123194.176000    1.880000  ...   27.266129          212.120000\n",
              "std        16272.813214    0.852675  ...   42.613292          380.233118\n",
              "min        81370.000000    1.000000  ...    0.000000            0.000000\n",
              "25%       112676.000000    1.000000  ...   10.000000           71.000000\n",
              "50%       129600.000000    2.000000  ...   19.000000          123.500000\n",
              "75%       136393.000000    3.000000  ...   32.250000          228.500000\n",
              "max       139441.000000    3.000000  ...  790.000000         6334.000000\n",
              "\n",
              "[8 rows x 18 columns]"
            ]
          },
          "metadata": {},
          "execution_count": 5
        }
      ]
    },
    {
      "cell_type": "code",
      "source": [
        "_ = df.hist(bins=50, figsize=(20,15))"
      ],
      "metadata": {
        "colab": {
          "base_uri": "https://localhost:8080/",
          "height": 879
        },
        "id": "S8CoZmw1tyiY",
        "outputId": "28c6b336-bb0f-43d1-c70a-499c76f2a03d"
      },
      "execution_count": null,
      "outputs": [
        {
          "output_type": "display_data",
          "data": {
            "image/png": "[encoded data removed]",
            "text/plain": [
              "<Figure size 1440x1080 with 20 Axes>"
            ]
          },
          "metadata": {
            "needs_background": "light"
          }
        }
      ]
    },
    {
      "cell_type": "markdown",
      "source": [
        "We have some insights from here already which will help us decide how to move forward.\n",
        "\n",
        "Some ideas:\n",
        "\n",
        "'Category', 'Post Month', 'Post Weekday', 'Post Hour', and 'Paid' appear as numerical features, but they are categorical.\n",
        "Skewed distributions for most of the features -- standardisation or some other way of transforming the features might be needed (or at least attempted in our explorations).\n",
        "Before we go any further, we should create our separate train and test splits. We will not look at the test set again until the end of the project"
      ],
      "metadata": {
        "id": "LFkcm6Fnt8Sp"
      }
    },
    {
      "cell_type": "code",
      "source": [
        "# Create separate training and test sets. we'll use the training set for steps 3--6\n",
        "train_set, test_set = train_test_split(df, test_size=0.2, random_state=23)  \n",
        "# by setting a random_state above, we make sure anytime we run this line we end up with the same train and test sets\n",
        "print(len(train_set), len(test_set))"
      ],
      "metadata": {
        "colab": {
          "base_uri": "https://localhost:8080/"
        },
        "id": "WCi-ktPqt9Vn",
        "outputId": "48a63900-13df-414f-f48f-ab0ecbe49507"
      },
      "execution_count": null,
      "outputs": [
        {
          "output_type": "stream",
          "name": "stdout",
          "text": [
            "400 100\n"
          ]
        }
      ]
    },
    {
      "cell_type": "code",
      "source": [
        "# Let's make a copy of the training set to ensure we don't mess things up\n",
        "df = train_set.copy()"
      ],
      "metadata": {
        "id": "l9qOb5XNuEG6"
      },
      "execution_count": null,
      "outputs": []
    },
    {
      "cell_type": "markdown",
      "source": [
        "What we do from now on depends on the data we're working with. Some examples below.\n",
        "\n",
        "Let's look only at some potential features"
      ],
      "metadata": {
        "id": "lTPeSjiGuJSO"
      }
    },
    {
      "cell_type": "code",
      "source": [
        "features = [\"Category\", \"Page total likes\", \"Type\", \"Post Month\", \"Post Hour\", \"Post Weekday\", \"Paid\"]\n",
        "df[features].head()"
      ],
      "metadata": {
        "colab": {
          "base_uri": "https://localhost:8080/",
          "height": 206
        },
        "id": "Xej8FQnfuKqK",
        "outputId": "109b3899-8e8b-42b5-db51-bb2f4a224c17"
      },
      "execution_count": null,
      "outputs": [
        {
          "output_type": "execute_result",
          "data": {
            "text/html": [
              "\n",
              "  <div id=\"df-2cd35a2b-5db7-49fb-b11b-f311dbe5c8f9\">\n",
              "    <div class=\"colab-df-container\">\n",
              "      <div>\n",
              "<style scoped>\n",
              "    .dataframe tbody tr th:only-of-type {\n",
              "        vertical-align: middle;\n",
              "    }\n",
              "\n",
              "    .dataframe tbody tr th {\n",
              "        vertical-align: top;\n",
              "    }\n",
              "\n",
              "    .dataframe thead th {\n",
              "        text-align: right;\n",
              "    }\n",
              "</style>\n",
              "<table border=\"1\" class=\"dataframe\">\n",
              "  <thead>\n",
              "    <tr style=\"text-align: right;\">\n",
              "      <th></th>\n",
              "      <th>Category</th>\n",
              "      <th>Page total likes</th>\n",
              "      <th>Type</th>\n",
              "      <th>Post Month</th>\n",
              "      <th>Post Hour</th>\n",
              "      <th>Post Weekday</th>\n",
              "      <th>Paid</th>\n",
              "    </tr>\n",
              "  </thead>\n",
              "  <tbody>\n",
              "    <tr>\n",
              "      <th>61</th>\n",
              "      <td>1</td>\n",
              "      <td>138185</td>\n",
              "      <td>Photo</td>\n",
              "      <td>11</td>\n",
              "      <td>2</td>\n",
              "      <td>3</td>\n",
              "      <td>1.0</td>\n",
              "    </tr>\n",
              "    <tr>\n",
              "      <th>13</th>\n",
              "      <td>2</td>\n",
              "      <td>139441</td>\n",
              "      <td>Photo</td>\n",
              "      <td>12</td>\n",
              "      <td>3</td>\n",
              "      <td>5</td>\n",
              "      <td>0.0</td>\n",
              "    </tr>\n",
              "    <tr>\n",
              "      <th>183</th>\n",
              "      <td>1</td>\n",
              "      <td>134879</td>\n",
              "      <td>Video</td>\n",
              "      <td>9</td>\n",
              "      <td>10</td>\n",
              "      <td>2</td>\n",
              "      <td>0.0</td>\n",
              "    </tr>\n",
              "    <tr>\n",
              "      <th>38</th>\n",
              "      <td>2</td>\n",
              "      <td>138895</td>\n",
              "      <td>Status</td>\n",
              "      <td>12</td>\n",
              "      <td>9</td>\n",
              "      <td>7</td>\n",
              "      <td>0.0</td>\n",
              "    </tr>\n",
              "    <tr>\n",
              "      <th>479</th>\n",
              "      <td>3</td>\n",
              "      <td>86909</td>\n",
              "      <td>Photo</td>\n",
              "      <td>1</td>\n",
              "      <td>4</td>\n",
              "      <td>5</td>\n",
              "      <td>0.0</td>\n",
              "    </tr>\n",
              "  </tbody>\n",
              "</table>\n",
              "</div>\n",
              "      <button class=\"colab-df-convert\" onclick=\"convertToInteractive('df-2cd35a2b-5db7-49fb-b11b-f311dbe5c8f9')\"\n",
              "              title=\"Convert this dataframe to an interactive table.\"\n",
              "              style=\"display:none;\">\n",
              "        \n",
              "  <svg xmlns=\"http://www.w3.org/2000/svg\" height=\"24px\"viewBox=\"0 0 24 24\"\n",
              "       width=\"24px\">\n",
              "    <path d=\"M0 0h24v24H0V0z\" fill=\"none\"/>\n",
              "    <path d=\"M18.56 5.44l.94 2.06.94-2.06 2.06-.94-2.06-.94-.94-2.06-.94 2.06-2.06.94zm-11 1L8.5 8.5l.94-2.06 2.06-.94-2.06-.94L8.5 2.5l-.94 2.06-2.06.94zm10 10l.94 2.06.94-2.06 2.06-.94-2.06-.94-.94-2.06-.94 2.06-2.06.94z\"/><path d=\"M17.41 7.96l-1.37-1.37c-.4-.4-.92-.59-1.43-.59-.52 0-1.04.2-1.43.59L10.3 9.45l-7.72 7.72c-.78.78-.78 2.05 0 2.83L4 21.41c.39.39.9.59 1.41.59.51 0 1.02-.2 1.41-.59l7.78-7.78 2.81-2.81c.8-.78.8-2.07 0-2.86zM5.41 20L4 18.59l7.72-7.72 1.47 1.35L5.41 20z\"/>\n",
              "  </svg>\n",
              "      </button>\n",
              "      \n",
              "  <style>\n",
              "    .colab-df-container {\n",
              "      display:flex;\n",
              "      flex-wrap:wrap;\n",
              "      gap: 12px;\n",
              "    }\n",
              "\n",
              "    .colab-df-convert {\n",
              "      background-color: #E8F0FE;\n",
              "      border: none;\n",
              "      border-radius: 50%;\n",
              "      cursor: pointer;\n",
              "      display: none;\n",
              "      fill: #1967D2;\n",
              "      height: 32px;\n",
              "      padding: 0 0 0 0;\n",
              "      width: 32px;\n",
              "    }\n",
              "\n",
              "    .colab-df-convert:hover {\n",
              "      background-color: #E2EBFA;\n",
              "      box-shadow: 0px 1px 2px rgba(60, 64, 67, 0.3), 0px 1px 3px 1px rgba(60, 64, 67, 0.15);\n",
              "      fill: #174EA6;\n",
              "    }\n",
              "\n",
              "    [theme=dark] .colab-df-convert {\n",
              "      background-color: #3B4455;\n",
              "      fill: #D2E3FC;\n",
              "    }\n",
              "\n",
              "    [theme=dark] .colab-df-convert:hover {\n",
              "      background-color: #434B5C;\n",
              "      box-shadow: 0px 1px 3px 1px rgba(0, 0, 0, 0.15);\n",
              "      filter: drop-shadow(0px 1px 2px rgba(0, 0, 0, 0.3));\n",
              "      fill: #FFFFFF;\n",
              "    }\n",
              "  </style>\n",
              "\n",
              "      <script>\n",
              "        const buttonEl =\n",
              "          document.querySelector('#df-2cd35a2b-5db7-49fb-b11b-f311dbe5c8f9 button.colab-df-convert');\n",
              "        buttonEl.style.display =\n",
              "          google.colab.kernel.accessAllowed ? 'block' : 'none';\n",
              "\n",
              "        async function convertToInteractive(key) {\n",
              "          const element = document.querySelector('#df-2cd35a2b-5db7-49fb-b11b-f311dbe5c8f9');\n",
              "          const dataTable =\n",
              "            await google.colab.kernel.invokeFunction('convertToInteractive',\n",
              "                                                     [key], {});\n",
              "          if (!dataTable) return;\n",
              "\n",
              "          const docLinkHtml = 'Like what you see? Visit the ' +\n",
              "            '<a target=\"_blank\" href=https://colab.research.google.com/notebooks/data_table.ipynb>data table notebook</a>'\n",
              "            + ' to learn more about interactive tables.';\n",
              "          element.innerHTML = '';\n",
              "          dataTable['output_type'] = 'display_data';\n",
              "          await google.colab.output.renderOutput(dataTable, element);\n",
              "          const docLink = document.createElement('div');\n",
              "          docLink.innerHTML = docLinkHtml;\n",
              "          element.appendChild(docLink);\n",
              "        }\n",
              "      </script>\n",
              "    </div>\n",
              "  </div>\n",
              "  "
            ],
            "text/plain": [
              "     Category  Page total likes    Type  ...  Post Hour  Post Weekday  Paid\n",
              "61          1            138185   Photo  ...          2             3   1.0\n",
              "13          2            139441   Photo  ...          3             5   0.0\n",
              "183         1            134879   Video  ...         10             2   0.0\n",
              "38          2            138895  Status  ...          9             7   0.0\n",
              "479         3             86909   Photo  ...          4             5   0.0\n",
              "\n",
              "[5 rows x 7 columns]"
            ]
          },
          "metadata": {},
          "execution_count": 9
        }
      ]
    },
    {
      "cell_type": "code",
      "source": [
        "# Scatterplots\n",
        "_ = sns.pairplot(df[features])\n",
        "# An equivalent plot can be done with pandas:\n",
        "#_ = pd.plotting.scatter_matrix(df[features], figsize=(12, 8))"
      ],
      "metadata": {
        "colab": {
          "base_uri": "https://localhost:8080/",
          "height": 1000
        },
        "id": "7RRkZDQTuSwH",
        "outputId": "3b14a353-e220-4a0f-ab5d-398d4f42d0ec"
      },
      "execution_count": null,
      "outputs": [
        {
          "output_type": "display_data",
          "data": {
            "image/png": "[encoded data removed]",
            "text/plain": [
              "<Figure size 1080x1080 with 42 Axes>"
            ]
          },
          "metadata": {
            "needs_background": "light"
          }
        }
      ]
    },
    {
      "cell_type": "code",
      "source": [
        "# Correlations\n",
        "correlations = df.corr()  # this is a dataframe\n",
        "# let's see how much each attribute correlates with the outcome 'like'\n",
        "correlations['like'].sort_values(ascending=False)"
      ],
      "metadata": {
        "colab": {
          "base_uri": "https://localhost:8080/"
        },
        "id": "ix-DkNo8udut",
        "outputId": "43795322-ef66-4255-c5d9-f767b881e5a8"
      },
      "execution_count": null,
      "outputs": [
        {
          "output_type": "execute_result",
          "data": {
            "text/plain": [
              "like                                                                   1.000000\n",
              "Total Interactions                                                     0.997956\n",
              "share                                                                  0.916424\n",
              "comment                                                                0.856275\n",
              "Lifetime Post reach by people who like your Page                       0.634616\n",
              "Lifetime Engaged Users                                                 0.572801\n",
              "Lifetime Post Total Reach                                              0.556006\n",
              "Lifetime People who have liked your Page and engaged with your post    0.501722\n",
              "Lifetime Post Consumers                                                0.351391\n",
              "Lifetime Post Total Impressions                                        0.343128\n",
              "Lifetime Post Impressions by people who have liked your Page           0.247382\n",
              "Lifetime Post Consumptions                                             0.231878\n",
              "Paid                                                                   0.124391\n",
              "Category                                                               0.123469\n",
              "Page total likes                                                       0.045435\n",
              "Post Month                                                             0.019471\n",
              "Post Hour                                                             -0.018337\n",
              "Post Weekday                                                          -0.081361\n",
              "Name: like, dtype: float64"
            ]
          },
          "metadata": {},
          "execution_count": 11
        }
      ]
    },
    {
      "cell_type": "markdown",
      "source": [
        "Note that correlations only tell us of a LINEAR relationship between two variables. Small correlations do not imply no information at all, only that if there is, it is not linear.\n",
        "\n",
        "We now have some information about our data that we can use to model. Let's move on to step 4 \"Prepare the data for ML\", but note that this is an iterative process (insights -> prototype -> analyse -> insights -> ...)\n",
        "\n",
        "At this stage we can also do feature ingeneering: create more features from the ones you have and check if the correlation with the outcome improves. If we use them in our model, we'll need them later on for our test set as well, but we'll see how to do this below."
      ],
      "metadata": {
        "id": "2fwQGT2OukEL"
      }
    },
    {
      "cell_type": "markdown",
      "source": [
        "**Prepare data for ML algorithms**\n",
        "Use functions were possible:\n",
        "\n",
        "- Reproducing on a new dataset is easier\n",
        "- Reusable on other projects\n",
        "- To transform the data for deployment\n",
        "- Can see which transformations work best"
      ],
      "metadata": {
        "id": "q0yVHF_luq-g"
      }
    },
    {
      "cell_type": "markdown",
      "source": [
        "First, let's revert to a new clean training set, and separate features from labels (if applicable -- not in unsupervised learning)"
      ],
      "metadata": {
        "id": "uAb_BRl6u1hg"
      }
    },
    {
      "cell_type": "code",
      "source": [
        "df = train_set.copy()\n",
        "# Most algorithms cannot work with missing values. Three main ways to deal with them:\n",
        "# 1. Drop rows\n",
        "# 2. Drop features with NaNs\n",
        "# 3. Fill missing values\n",
        "# As we have very few missing values, let's drop the rows\n",
        "print(\"Number of rows before dropping NaNs: %d\" % len(df))\n",
        "df = df.dropna()\n",
        "print(\"Number of rows after dropping NaNs: %d\" % len(df))\n",
        "# Separate features from outcomes\n",
        "y_df = df['like'].copy()\n",
        "X_df = df[features].copy()"
      ],
      "metadata": {
        "colab": {
          "base_uri": "https://localhost:8080/"
        },
        "id": "CFMBACvWu3EM",
        "outputId": "c041ec38-266b-408b-c3cc-590b1eca6942"
      },
      "execution_count": null,
      "outputs": [
        {
          "output_type": "stream",
          "name": "stdout",
          "text": [
            "Number of rows before dropping NaNs: 400\n",
            "Number of rows after dropping NaNs: 396\n"
          ]
        }
      ]
    },
    {
      "cell_type": "code",
      "source": [
        "# We previously observed that some of the features were categorical. \n",
        "# Two main ways to deal with these: OrdinalEncoder() or OneHotEncoding()\n",
        "\n",
        "# Let's use OneHotEncoding for the categories ('Category', 'Paid', 'Type')\n",
        "# As we will later want to transform the test set, let's follow good practice and create a custom transformer for a sklearn pipeline\n",
        "\n",
        "# This is an example of how it would be done. Since this is a very simple transformation, there's a better way of doing it\n",
        "# using ColumnTransformer. We show it below\n",
        "\n",
        "class OneHotEncoderCategoricalFeatures(BaseEstimator, TransformerMixin):\n",
        "    def __init__(self, cat_features):\n",
        "        self.cat_features = cat_features\n",
        "    \n",
        "    def fit(self, X, y=None):\n",
        "        return self\n",
        "    \n",
        "    def transform(self, X):\n",
        "        return pd.get_dummies(X, columns=self.cat_features)"
      ],
      "metadata": {
        "id": "o0XxZNfyu-Oq"
      },
      "execution_count": null,
      "outputs": []
    },
    {
      "cell_type": "code",
      "source": [
        "cat_features = [\"Category\", \"Type\"]\n",
        "\n",
        "encoder = OneHotEncoderCategoricalFeatures(cat_features)\n",
        "X_oho = encoder.transform(X_df)\n",
        "X_oho"
      ],
      "metadata": {
        "colab": {
          "base_uri": "https://localhost:8080/",
          "height": 424
        },
        "id": "Gj1xrL_avDob",
        "outputId": "ae633769-6a37-41ac-9cf6-41f16524e26e"
      },
      "execution_count": null,
      "outputs": [
        {
          "output_type": "execute_result",
          "data": {
            "text/html": [
              "\n",
              "  <div id=\"df-766daa4b-a68c-4fc3-bc95-8164977e1474\">\n",
              "    <div class=\"colab-df-container\">\n",
              "      <div>\n",
              "<style scoped>\n",
              "    .dataframe tbody tr th:only-of-type {\n",
              "        vertical-align: middle;\n",
              "    }\n",
              "\n",
              "    .dataframe tbody tr th {\n",
              "        vertical-align: top;\n",
              "    }\n",
              "\n",
              "    .dataframe thead th {\n",
              "        text-align: right;\n",
              "    }\n",
              "</style>\n",
              "<table border=\"1\" class=\"dataframe\">\n",
              "  <thead>\n",
              "    <tr style=\"text-align: right;\">\n",
              "      <th></th>\n",
              "      <th>Page total likes</th>\n",
              "      <th>Post Month</th>\n",
              "      <th>Post Hour</th>\n",
              "      <th>Post Weekday</th>\n",
              "      <th>Paid</th>\n",
              "      <th>Category_1</th>\n",
              "      <th>Category_2</th>\n",
              "      <th>Category_3</th>\n",
              "      <th>Type_Link</th>\n",
              "      <th>Type_Photo</th>\n",
              "      <th>Type_Status</th>\n",
              "      <th>Type_Video</th>\n",
              "    </tr>\n",
              "  </thead>\n",
              "  <tbody>\n",
              "    <tr>\n",
              "      <th>61</th>\n",
              "      <td>138185</td>\n",
              "      <td>11</td>\n",
              "      <td>2</td>\n",
              "      <td>3</td>\n",
              "      <td>1.0</td>\n",
              "      <td>1</td>\n",
              "      <td>0</td>\n",
              "      <td>0</td>\n",
              "      <td>0</td>\n",
              "      <td>1</td>\n",
              "      <td>0</td>\n",
              "      <td>0</td>\n",
              "    </tr>\n",
              "    <tr>\n",
              "      <th>13</th>\n",
              "      <td>139441</td>\n",
              "      <td>12</td>\n",
              "      <td>3</td>\n",
              "      <td>5</td>\n",
              "      <td>0.0</td>\n",
              "      <td>0</td>\n",
              "      <td>1</td>\n",
              "      <td>0</td>\n",
              "      <td>0</td>\n",
              "      <td>1</td>\n",
              "      <td>0</td>\n",
              "      <td>0</td>\n",
              "    </tr>\n",
              "    <tr>\n",
              "      <th>183</th>\n",
              "      <td>134879</td>\n",
              "      <td>9</td>\n",
              "      <td>10</td>\n",
              "      <td>2</td>\n",
              "      <td>0.0</td>\n",
              "      <td>1</td>\n",
              "      <td>0</td>\n",
              "      <td>0</td>\n",
              "      <td>0</td>\n",
              "      <td>0</td>\n",
              "      <td>0</td>\n",
              "      <td>1</td>\n",
              "    </tr>\n",
              "    <tr>\n",
              "      <th>38</th>\n",
              "      <td>138895</td>\n",
              "      <td>12</td>\n",
              "      <td>9</td>\n",
              "      <td>7</td>\n",
              "      <td>0.0</td>\n",
              "      <td>0</td>\n",
              "      <td>1</td>\n",
              "      <td>0</td>\n",
              "      <td>0</td>\n",
              "      <td>0</td>\n",
              "      <td>1</td>\n",
              "      <td>0</td>\n",
              "    </tr>\n",
              "    <tr>\n",
              "      <th>479</th>\n",
              "      <td>86909</td>\n",
              "      <td>1</td>\n",
              "      <td>4</td>\n",
              "      <td>5</td>\n",
              "      <td>0.0</td>\n",
              "      <td>0</td>\n",
              "      <td>0</td>\n",
              "      <td>1</td>\n",
              "      <td>0</td>\n",
              "      <td>1</td>\n",
              "      <td>0</td>\n",
              "      <td>0</td>\n",
              "    </tr>\n",
              "    <tr>\n",
              "      <th>...</th>\n",
              "      <td>...</td>\n",
              "      <td>...</td>\n",
              "      <td>...</td>\n",
              "      <td>...</td>\n",
              "      <td>...</td>\n",
              "      <td>...</td>\n",
              "      <td>...</td>\n",
              "      <td>...</td>\n",
              "      <td>...</td>\n",
              "      <td>...</td>\n",
              "      <td>...</td>\n",
              "      <td>...</td>\n",
              "    </tr>\n",
              "    <tr>\n",
              "      <th>438</th>\n",
              "      <td>98195</td>\n",
              "      <td>3</td>\n",
              "      <td>6</td>\n",
              "      <td>6</td>\n",
              "      <td>0.0</td>\n",
              "      <td>0</td>\n",
              "      <td>1</td>\n",
              "      <td>0</td>\n",
              "      <td>1</td>\n",
              "      <td>0</td>\n",
              "      <td>0</td>\n",
              "      <td>0</td>\n",
              "    </tr>\n",
              "    <tr>\n",
              "      <th>457</th>\n",
              "      <td>92828</td>\n",
              "      <td>2</td>\n",
              "      <td>6</td>\n",
              "      <td>3</td>\n",
              "      <td>0.0</td>\n",
              "      <td>1</td>\n",
              "      <td>0</td>\n",
              "      <td>0</td>\n",
              "      <td>0</td>\n",
              "      <td>1</td>\n",
              "      <td>0</td>\n",
              "      <td>0</td>\n",
              "    </tr>\n",
              "    <tr>\n",
              "      <th>40</th>\n",
              "      <td>138895</td>\n",
              "      <td>12</td>\n",
              "      <td>11</td>\n",
              "      <td>6</td>\n",
              "      <td>0.0</td>\n",
              "      <td>0</td>\n",
              "      <td>1</td>\n",
              "      <td>0</td>\n",
              "      <td>0</td>\n",
              "      <td>0</td>\n",
              "      <td>1</td>\n",
              "      <td>0</td>\n",
              "    </tr>\n",
              "    <tr>\n",
              "      <th>230</th>\n",
              "      <td>131630</td>\n",
              "      <td>7</td>\n",
              "      <td>23</td>\n",
              "      <td>2</td>\n",
              "      <td>0.0</td>\n",
              "      <td>0</td>\n",
              "      <td>0</td>\n",
              "      <td>1</td>\n",
              "      <td>0</td>\n",
              "      <td>1</td>\n",
              "      <td>0</td>\n",
              "      <td>0</td>\n",
              "    </tr>\n",
              "    <tr>\n",
              "      <th>83</th>\n",
              "      <td>137177</td>\n",
              "      <td>11</td>\n",
              "      <td>10</td>\n",
              "      <td>5</td>\n",
              "      <td>1.0</td>\n",
              "      <td>0</td>\n",
              "      <td>0</td>\n",
              "      <td>1</td>\n",
              "      <td>0</td>\n",
              "      <td>1</td>\n",
              "      <td>0</td>\n",
              "      <td>0</td>\n",
              "    </tr>\n",
              "  </tbody>\n",
              "</table>\n",
              "<p>396 rows × 12 columns</p>\n",
              "</div>\n",
              "      <button class=\"colab-df-convert\" onclick=\"convertToInteractive('df-766daa4b-a68c-4fc3-bc95-8164977e1474')\"\n",
              "              title=\"Convert this dataframe to an interactive table.\"\n",
              "              style=\"display:none;\">\n",
              "        \n",
              "  <svg xmlns=\"http://www.w3.org/2000/svg\" height=\"24px\"viewBox=\"0 0 24 24\"\n",
              "       width=\"24px\">\n",
              "    <path d=\"M0 0h24v24H0V0z\" fill=\"none\"/>\n",
              "    <path d=\"M18.56 5.44l.94 2.06.94-2.06 2.06-.94-2.06-.94-.94-2.06-.94 2.06-2.06.94zm-11 1L8.5 8.5l.94-2.06 2.06-.94-2.06-.94L8.5 2.5l-.94 2.06-2.06.94zm10 10l.94 2.06.94-2.06 2.06-.94-2.06-.94-.94-2.06-.94 2.06-2.06.94z\"/><path d=\"M17.41 7.96l-1.37-1.37c-.4-.4-.92-.59-1.43-.59-.52 0-1.04.2-1.43.59L10.3 9.45l-7.72 7.72c-.78.78-.78 2.05 0 2.83L4 21.41c.39.39.9.59 1.41.59.51 0 1.02-.2 1.41-.59l7.78-7.78 2.81-2.81c.8-.78.8-2.07 0-2.86zM5.41 20L4 18.59l7.72-7.72 1.47 1.35L5.41 20z\"/>\n",
              "  </svg>\n",
              "      </button>\n",
              "      \n",
              "  <style>\n",
              "    .colab-df-container {\n",
              "      display:flex;\n",
              "      flex-wrap:wrap;\n",
              "      gap: 12px;\n",
              "    }\n",
              "\n",
              "    .colab-df-convert {\n",
              "      background-color: #E8F0FE;\n",
              "      border: none;\n",
              "      border-radius: 50%;\n",
              "      cursor: pointer;\n",
              "      display: none;\n",
              "      fill: #1967D2;\n",
              "      height: 32px;\n",
              "      padding: 0 0 0 0;\n",
              "      width: 32px;\n",
              "    }\n",
              "\n",
              "    .colab-df-convert:hover {\n",
              "      background-color: #E2EBFA;\n",
              "      box-shadow: 0px 1px 2px rgba(60, 64, 67, 0.3), 0px 1px 3px 1px rgba(60, 64, 67, 0.15);\n",
              "      fill: #174EA6;\n",
              "    }\n",
              "\n",
              "    [theme=dark] .colab-df-convert {\n",
              "      background-color: #3B4455;\n",
              "      fill: #D2E3FC;\n",
              "    }\n",
              "\n",
              "    [theme=dark] .colab-df-convert:hover {\n",
              "      background-color: #434B5C;\n",
              "      box-shadow: 0px 1px 3px 1px rgba(0, 0, 0, 0.15);\n",
              "      filter: drop-shadow(0px 1px 2px rgba(0, 0, 0, 0.3));\n",
              "      fill: #FFFFFF;\n",
              "    }\n",
              "  </style>\n",
              "\n",
              "      <script>\n",
              "        const buttonEl =\n",
              "          document.querySelector('#df-766daa4b-a68c-4fc3-bc95-8164977e1474 button.colab-df-convert');\n",
              "        buttonEl.style.display =\n",
              "          google.colab.kernel.accessAllowed ? 'block' : 'none';\n",
              "\n",
              "        async function convertToInteractive(key) {\n",
              "          const element = document.querySelector('#df-766daa4b-a68c-4fc3-bc95-8164977e1474');\n",
              "          const dataTable =\n",
              "            await google.colab.kernel.invokeFunction('convertToInteractive',\n",
              "                                                     [key], {});\n",
              "          if (!dataTable) return;\n",
              "\n",
              "          const docLinkHtml = 'Like what you see? Visit the ' +\n",
              "            '<a target=\"_blank\" href=https://colab.research.google.com/notebooks/data_table.ipynb>data table notebook</a>'\n",
              "            + ' to learn more about interactive tables.';\n",
              "          element.innerHTML = '';\n",
              "          dataTable['output_type'] = 'display_data';\n",
              "          await google.colab.output.renderOutput(dataTable, element);\n",
              "          const docLink = document.createElement('div');\n",
              "          docLink.innerHTML = docLinkHtml;\n",
              "          element.appendChild(docLink);\n",
              "        }\n",
              "      </script>\n",
              "    </div>\n",
              "  </div>\n",
              "  "
            ],
            "text/plain": [
              "     Page total likes  Post Month  ...  Type_Status  Type_Video\n",
              "61             138185          11  ...            0           0\n",
              "13             139441          12  ...            0           0\n",
              "183            134879           9  ...            0           1\n",
              "38             138895          12  ...            1           0\n",
              "479             86909           1  ...            0           0\n",
              "..                ...         ...  ...          ...         ...\n",
              "438             98195           3  ...            0           0\n",
              "457             92828           2  ...            0           0\n",
              "40             138895          12  ...            1           0\n",
              "230            131630           7  ...            0           0\n",
              "83             137177          11  ...            0           0\n",
              "\n",
              "[396 rows x 12 columns]"
            ]
          },
          "metadata": {},
          "execution_count": 14
        }
      ]
    },
    {
      "cell_type": "code",
      "source": [
        "# Let's also look at standardising some of the numerical features\n",
        "num_features = ['Page total likes']\n",
        "\n",
        "# Use column transformer: numerical features will be standardised; categorical features will be transformed with OHO\n",
        "\n",
        "# We can use a ColumnTransformer to transform only some types of columns in different ways\n",
        "colTransformer = ColumnTransformer([\n",
        "    ('num', StandardScaler(), num_features),\n",
        "    ('cat', OneHotEncoder(), cat_features)\n",
        "    ],\n",
        "    remainder='passthrough'  # i.e., leave the rest of the columns untouched -- otherwise, they're dropped\n",
        "    )\n",
        "\n",
        "X_processed = colTransformer.fit_transform(X_df)\n",
        "X_processed.shape"
      ],
      "metadata": {
        "colab": {
          "base_uri": "https://localhost:8080/"
        },
        "id": "zuB-6mZ2vIly",
        "outputId": "fe19e66e-7891-49b5-85d4-f75d58defbb6"
      },
      "execution_count": null,
      "outputs": [
        {
          "output_type": "execute_result",
          "data": {
            "text/plain": [
              "(396, 12)"
            ]
          },
          "metadata": {},
          "execution_count": 15
        }
      ]
    },
    {
      "cell_type": "code",
      "source": [
        "X_processed[0,:]"
      ],
      "metadata": {
        "colab": {
          "base_uri": "https://localhost:8080/"
        },
        "id": "NsrjhfESvNk2",
        "outputId": "fbab0642-8b13-40a1-8a40-88913e5fdac9"
      },
      "execution_count": null,
      "outputs": [
        {
          "output_type": "execute_result",
          "data": {
            "text/plain": [
              "array([ 0.90234462,  1.        ,  0.        ,  0.        ,  0.        ,\n",
              "        1.        ,  0.        ,  0.        , 11.        ,  2.        ,\n",
              "        3.        ,  1.        ])"
            ]
          },
          "metadata": {},
          "execution_count": 16
        }
      ]
    },
    {
      "cell_type": "markdown",
      "source": [
        "**Regression**"
      ],
      "metadata": {
        "id": "W1CL8PzkvR6h"
      }
    },
    {
      "cell_type": "markdown",
      "source": [
        "We can now train a regressor and then use the bootstrap to find an approximation of the bias and the variance"
      ],
      "metadata": {
        "id": "RqCRabdnvXbM"
      }
    },
    {
      "cell_type": "code",
      "source": [
        "y = y_df.values\n",
        "_ = sns.histplot(y, kde=False)"
      ],
      "metadata": {
        "colab": {
          "base_uri": "https://localhost:8080/",
          "height": 265
        },
        "id": "aiYtZcT4vY88",
        "outputId": "04de84e9-074c-4965-984b-5832cb93f88a"
      },
      "execution_count": null,
      "outputs": [
        {
          "output_type": "display_data",
          "data": {
            "image/png": "[encoded data removed]",
            "text/plain": [
              "<Figure size 432x288 with 1 Axes>"
            ]
          },
          "metadata": {
            "needs_background": "light"
          }
        }
      ]
    },
    {
      "cell_type": "code",
      "source": [
        "# Since the 'y' is skewed and the range is very large, we can also transform it\n",
        "y_transformer = StandardScaler()  # we'll need this scaler for the test set later!\n",
        "y = y_transformer.fit_transform(y.reshape(-1,1))\n",
        "_ = sns.histplot(y, kde=False)"
      ],
      "metadata": {
        "colab": {
          "base_uri": "https://localhost:8080/",
          "height": 265
        },
        "id": "fGhsimDevfQ0",
        "outputId": "d824ca67-8dcf-4348-ffcf-bad6615b2a5f"
      },
      "execution_count": null,
      "outputs": [
        {
          "output_type": "display_data",
          "data": {
            "image/png": "[encoded data removed]",
            "text/plain": [
              "<Figure size 432x288 with 1 Axes>"
            ]
          },
          "metadata": {
            "needs_background": "light"
          }
        }
      ]
    },
    {
      "cell_type": "markdown",
      "source": [
        "Let's try some models"
      ],
      "metadata": {
        "id": "b4CmFX17vlfZ"
      }
    },
    {
      "cell_type": "code",
      "source": [
        "clf = DecisionTreeRegressor()  # Decision tree\n",
        "clf.fit(X_processed, y)\n",
        "print(\"MSE of the model = %1.4g\" % mse(y, clf.predict(X_processed)))"
      ],
      "metadata": {
        "colab": {
          "base_uri": "https://localhost:8080/"
        },
        "id": "bSu6lTw8vmc2",
        "outputId": "2247b6d2-555a-4136-f5dd-def468f30bac"
      },
      "execution_count": null,
      "outputs": [
        {
          "output_type": "stream",
          "name": "stdout",
          "text": [
            "MSE of the model = 0.0005276\n"
          ]
        }
      ]
    },
    {
      "cell_type": "code",
      "source": [
        "n_test = 100\n",
        "n_repeat = 1000\n",
        "\n",
        "estimator = RandomForestRegressor()\n",
        "\n",
        "# Compute predictions\n",
        "y_predicts = np.ones((n_repeat, len(X_processed))) * np.nan\n",
        "for i in range(n_repeat):\n",
        "    sample  = np.random.choice(range(len(X_processed)), replace=True, size=len(X_processed))  # bootstrap!\n",
        "    train_ids = sample[:-n_test]\n",
        "    val_ids = sample[-n_test:]\n",
        "    val_ids = np.setdiff1d(val_ids, train_ids)  # only use those that weren't in the training set for testing\n",
        "    if len(val_ids) == 0:\n",
        "        continue\n",
        "    X_train, y_train = X_processed[train_ids], y[train_ids]\n",
        "    X_val, y_val = X_processed[val_ids], y[val_ids]\n",
        "    \n",
        "    estimator.fit(X_train, y_train.ravel())\n",
        "    y_predict = estimator.predict(X_val)\n",
        "    y_predicts[i, val_ids] = y_predict"
      ],
      "metadata": {
        "id": "h3tTn4w0vruv"
      },
      "execution_count": null,
      "outputs": []
    },
    {
      "cell_type": "code",
      "source": [
        "y_bias = (y - np.nanmean(y_predicts, axis=0))**2\n",
        "y_error = np.nanmean((y.T - y_predicts) **2, axis=0)\n",
        "y_var = np.nanvar(y_predicts, axis=0, ddof = 1)\n",
        "\n",
        "clf_type = \"Random Forest\"\n",
        "\n",
        "print(\"{0}: {1:.4f} (error) = {2:.4f} (bias^2) \"\n",
        "          \"+ {3:.4f} (var)\".format(clf_type, np.nanmean(y_error), np.nanmean(y_bias), np.nanmean(y_var)))\n",
        "\n",
        "print(\"{0}: {1:.4f} ((bias^2) + (var)) = {2:.4f} (bias^2) \"\n",
        "          \"+ {3:.4f} (var)\".format(clf_type, np.mean(y_bias) + np.mean(y_var), np.mean(y_bias), np.mean(y_var)))"
      ],
      "metadata": {
        "colab": {
          "base_uri": "https://localhost:8080/"
        },
        "id": "8Eg9bLIMwhpF",
        "outputId": "d79d1ab2-56af-458b-9738-955a8d6ab8c7"
      },
      "execution_count": null,
      "outputs": [
        {
          "output_type": "stream",
          "name": "stdout",
          "text": [
            "Random Forest: 1.3591 (error) = 1.1822 (bias^2) + 0.2365 (var)\n",
            "Random Forest: 1.4187 ((bias^2) + (var)) = 1.1822 (bias^2) + 0.2365 (var)\n"
          ]
        }
      ]
    },
    {
      "cell_type": "code",
      "source": [
        "#clf = RandomForestRegressor(n_estimators=1000,max_depth=2)\n",
        "clf = BayesianRidge(normalize=True)\n",
        "scores = cross_val_score(clf, X_processed, y.ravel(), cv=10, scoring = make_scorer(mse))\n",
        "\n",
        "dummy_clf = DummyRegressor(strategy='mean')\n",
        "dummy_scores = cross_val_score(dummy_clf, X_processed, y.ravel(), cv=10, scoring = make_scorer(mse))\n",
        "\n",
        "print(\"MSE: %0.8f +/- %0.8f\" % (scores.mean(), scores.std()))\n",
        "print(\"Dummy MSE: %0.8f +/- %0.8f\" % (dummy_scores.mean(), dummy_scores.std()))"
      ],
      "metadata": {
        "colab": {
          "base_uri": "https://localhost:8080/"
        },
        "id": "IeAHonYlwnTv",
        "outputId": "ab539ef8-3a9c-4467-db50-df179993cbf0"
      },
      "execution_count": null,
      "outputs": [
        {
          "output_type": "stream",
          "name": "stdout",
          "text": [
            "MSE: 30.24450576 +/- 5.30015757\n",
            "Dummy MSE: 33.62067836 +/- 5.18072005\n"
          ]
        },
        {
          "output_type": "stream",
          "name": "stderr",
          "text": [
            "/usr/local/lib/python3.7/dist-packages/sklearn/linear_model/_base.py:145: FutureWarning: 'normalize' was deprecated in version 1.0 and will be removed in 1.2.\n",
            "If you wish to scale the data, use Pipeline with a StandardScaler in a preprocessing stage. To reproduce the previous behavior:\n",
            "\n",
            "from sklearn.pipeline import make_pipeline\n",
            "\n",
            "model = make_pipeline(StandardScaler(with_mean=False), BayesianRidge())\n",
            "\n",
            "If you wish to pass a sample_weight parameter, you need to pass it as a fit parameter to each step of the pipeline as follows:\n",
            "\n",
            "kwargs = {s[0] + '__sample_weight': sample_weight for s in model.steps}\n",
            "model.fit(X, y, **kwargs)\n",
            "\n",
            "\n",
            "  FutureWarning,\n",
            "/usr/local/lib/python3.7/dist-packages/sklearn/linear_model/_base.py:145: FutureWarning: 'normalize' was deprecated in version 1.0 and will be removed in 1.2.\n",
            "If you wish to scale the data, use Pipeline with a StandardScaler in a preprocessing stage. To reproduce the previous behavior:\n",
            "\n",
            "from sklearn.pipeline import make_pipeline\n",
            "\n",
            "model = make_pipeline(StandardScaler(with_mean=False), BayesianRidge())\n",
            "\n",
            "If you wish to pass a sample_weight parameter, you need to pass it as a fit parameter to each step of the pipeline as follows:\n",
            "\n",
            "kwargs = {s[0] + '__sample_weight': sample_weight for s in model.steps}\n",
            "model.fit(X, y, **kwargs)\n",
            "\n",
            "\n",
            "  FutureWarning,\n",
            "/usr/local/lib/python3.7/dist-packages/sklearn/linear_model/_base.py:145: FutureWarning: 'normalize' was deprecated in version 1.0 and will be removed in 1.2.\n",
            "If you wish to scale the data, use Pipeline with a StandardScaler in a preprocessing stage. To reproduce the previous behavior:\n",
            "\n",
            "from sklearn.pipeline import make_pipeline\n",
            "\n",
            "model = make_pipeline(StandardScaler(with_mean=False), BayesianRidge())\n",
            "\n",
            "If you wish to pass a sample_weight parameter, you need to pass it as a fit parameter to each step of the pipeline as follows:\n",
            "\n",
            "kwargs = {s[0] + '__sample_weight': sample_weight for s in model.steps}\n",
            "model.fit(X, y, **kwargs)\n",
            "\n",
            "\n",
            "  FutureWarning,\n",
            "/usr/local/lib/python3.7/dist-packages/sklearn/linear_model/_base.py:145: FutureWarning: 'normalize' was deprecated in version 1.0 and will be removed in 1.2.\n",
            "If you wish to scale the data, use Pipeline with a StandardScaler in a preprocessing stage. To reproduce the previous behavior:\n",
            "\n",
            "from sklearn.pipeline import make_pipeline\n",
            "\n",
            "model = make_pipeline(StandardScaler(with_mean=False), BayesianRidge())\n",
            "\n",
            "If you wish to pass a sample_weight parameter, you need to pass it as a fit parameter to each step of the pipeline as follows:\n",
            "\n",
            "kwargs = {s[0] + '__sample_weight': sample_weight for s in model.steps}\n",
            "model.fit(X, y, **kwargs)\n",
            "\n",
            "\n",
            "  FutureWarning,\n",
            "/usr/local/lib/python3.7/dist-packages/sklearn/linear_model/_base.py:145: FutureWarning: 'normalize' was deprecated in version 1.0 and will be removed in 1.2.\n",
            "If you wish to scale the data, use Pipeline with a StandardScaler in a preprocessing stage. To reproduce the previous behavior:\n",
            "\n",
            "from sklearn.pipeline import make_pipeline\n",
            "\n",
            "model = make_pipeline(StandardScaler(with_mean=False), BayesianRidge())\n",
            "\n",
            "If you wish to pass a sample_weight parameter, you need to pass it as a fit parameter to each step of the pipeline as follows:\n",
            "\n",
            "kwargs = {s[0] + '__sample_weight': sample_weight for s in model.steps}\n",
            "model.fit(X, y, **kwargs)\n",
            "\n",
            "\n",
            "  FutureWarning,\n",
            "/usr/local/lib/python3.7/dist-packages/sklearn/linear_model/_base.py:145: FutureWarning: 'normalize' was deprecated in version 1.0 and will be removed in 1.2.\n",
            "If you wish to scale the data, use Pipeline with a StandardScaler in a preprocessing stage. To reproduce the previous behavior:\n",
            "\n",
            "from sklearn.pipeline import make_pipeline\n",
            "\n",
            "model = make_pipeline(StandardScaler(with_mean=False), BayesianRidge())\n",
            "\n",
            "If you wish to pass a sample_weight parameter, you need to pass it as a fit parameter to each step of the pipeline as follows:\n",
            "\n",
            "kwargs = {s[0] + '__sample_weight': sample_weight for s in model.steps}\n",
            "model.fit(X, y, **kwargs)\n",
            "\n",
            "\n",
            "  FutureWarning,\n",
            "/usr/local/lib/python3.7/dist-packages/sklearn/linear_model/_base.py:145: FutureWarning: 'normalize' was deprecated in version 1.0 and will be removed in 1.2.\n",
            "If you wish to scale the data, use Pipeline with a StandardScaler in a preprocessing stage. To reproduce the previous behavior:\n",
            "\n",
            "from sklearn.pipeline import make_pipeline\n",
            "\n",
            "model = make_pipeline(StandardScaler(with_mean=False), BayesianRidge())\n",
            "\n",
            "If you wish to pass a sample_weight parameter, you need to pass it as a fit parameter to each step of the pipeline as follows:\n",
            "\n",
            "kwargs = {s[0] + '__sample_weight': sample_weight for s in model.steps}\n",
            "model.fit(X, y, **kwargs)\n",
            "\n",
            "\n",
            "  FutureWarning,\n",
            "/usr/local/lib/python3.7/dist-packages/sklearn/linear_model/_base.py:145: FutureWarning: 'normalize' was deprecated in version 1.0 and will be removed in 1.2.\n",
            "If you wish to scale the data, use Pipeline with a StandardScaler in a preprocessing stage. To reproduce the previous behavior:\n",
            "\n",
            "from sklearn.pipeline import make_pipeline\n",
            "\n",
            "model = make_pipeline(StandardScaler(with_mean=False), BayesianRidge())\n",
            "\n",
            "If you wish to pass a sample_weight parameter, you need to pass it as a fit parameter to each step of the pipeline as follows:\n",
            "\n",
            "kwargs = {s[0] + '__sample_weight': sample_weight for s in model.steps}\n",
            "model.fit(X, y, **kwargs)\n",
            "\n",
            "\n",
            "  FutureWarning,\n",
            "/usr/local/lib/python3.7/dist-packages/sklearn/linear_model/_base.py:145: FutureWarning: 'normalize' was deprecated in version 1.0 and will be removed in 1.2.\n",
            "If you wish to scale the data, use Pipeline with a StandardScaler in a preprocessing stage. To reproduce the previous behavior:\n",
            "\n",
            "from sklearn.pipeline import make_pipeline\n",
            "\n",
            "model = make_pipeline(StandardScaler(with_mean=False), BayesianRidge())\n",
            "\n",
            "If you wish to pass a sample_weight parameter, you need to pass it as a fit parameter to each step of the pipeline as follows:\n",
            "\n",
            "kwargs = {s[0] + '__sample_weight': sample_weight for s in model.steps}\n",
            "model.fit(X, y, **kwargs)\n",
            "\n",
            "\n",
            "  FutureWarning,\n",
            "/usr/local/lib/python3.7/dist-packages/sklearn/linear_model/_base.py:145: FutureWarning: 'normalize' was deprecated in version 1.0 and will be removed in 1.2.\n",
            "If you wish to scale the data, use Pipeline with a StandardScaler in a preprocessing stage. To reproduce the previous behavior:\n",
            "\n",
            "from sklearn.pipeline import make_pipeline\n",
            "\n",
            "model = make_pipeline(StandardScaler(with_mean=False), BayesianRidge())\n",
            "\n",
            "If you wish to pass a sample_weight parameter, you need to pass it as a fit parameter to each step of the pipeline as follows:\n",
            "\n",
            "kwargs = {s[0] + '__sample_weight': sample_weight for s in model.steps}\n",
            "model.fit(X, y, **kwargs)\n",
            "\n",
            "\n",
            "  FutureWarning,\n"
          ]
        }
      ]
    },
    {
      "cell_type": "markdown",
      "source": [
        "Classification\n",
        "Let's divide the output of interest into bins, and see if we can do any better"
      ],
      "metadata": {
        "id": "sI_JFHGKw9D1"
      }
    },
    {
      "cell_type": "code",
      "source": [
        "outcomes_of_interest = [\"Lifetime Post Consumers\", \"like\"]\n",
        "n_bins = 20\n",
        "\n",
        "y_df = df[outcomes_of_interest].copy()\n",
        "y_df[\"like\"], bins = pd.qcut(y_df[\"like\"], n_bins, retbins=True)\n",
        "\n",
        "outcomesLabelEncoder = LabelEncoder()\n",
        "y_df['like'] = y_df['like'].apply(outcomesLabelEncoder.fit_transform)\n",
        "\n",
        "y_df['id'] = range(1, len(df) + 1)\n",
        "\n",
        "y_df.head()"
      ],
      "metadata": {
        "colab": {
          "base_uri": "https://localhost:8080/",
          "height": 206
        },
        "id": "Kw-l52Egw-jz",
        "outputId": "6dd0225c-bb41-4e33-e379-6f101d3eed13"
      },
      "execution_count": null,
      "outputs": [
        {
          "output_type": "execute_result",
          "data": {
            "text/html": [
              "\n",
              "  <div id=\"df-752b4bef-bcdb-4823-b0b1-f72412e8c574\">\n",
              "    <div class=\"colab-df-container\">\n",
              "      <div>\n",
              "<style scoped>\n",
              "    .dataframe tbody tr th:only-of-type {\n",
              "        vertical-align: middle;\n",
              "    }\n",
              "\n",
              "    .dataframe tbody tr th {\n",
              "        vertical-align: top;\n",
              "    }\n",
              "\n",
              "    .dataframe thead th {\n",
              "        text-align: right;\n",
              "    }\n",
              "</style>\n",
              "<table border=\"1\" class=\"dataframe\">\n",
              "  <thead>\n",
              "    <tr style=\"text-align: right;\">\n",
              "      <th></th>\n",
              "      <th>Lifetime Post Consumers</th>\n",
              "      <th>like</th>\n",
              "      <th>id</th>\n",
              "    </tr>\n",
              "  </thead>\n",
              "  <tbody>\n",
              "    <tr>\n",
              "      <th>61</th>\n",
              "      <td>513</td>\n",
              "      <td>12</td>\n",
              "      <td>1</td>\n",
              "    </tr>\n",
              "    <tr>\n",
              "      <th>13</th>\n",
              "      <td>134</td>\n",
              "      <td>11</td>\n",
              "      <td>2</td>\n",
              "    </tr>\n",
              "    <tr>\n",
              "      <th>183</th>\n",
              "      <td>1956</td>\n",
              "      <td>17</td>\n",
              "      <td>3</td>\n",
              "    </tr>\n",
              "    <tr>\n",
              "      <th>38</th>\n",
              "      <td>5202</td>\n",
              "      <td>16</td>\n",
              "      <td>4</td>\n",
              "    </tr>\n",
              "    <tr>\n",
              "      <th>479</th>\n",
              "      <td>1078</td>\n",
              "      <td>7</td>\n",
              "      <td>5</td>\n",
              "    </tr>\n",
              "  </tbody>\n",
              "</table>\n",
              "</div>\n",
              "      <button class=\"colab-df-convert\" onclick=\"convertToInteractive('df-752b4bef-bcdb-4823-b0b1-f72412e8c574')\"\n",
              "              title=\"Convert this dataframe to an interactive table.\"\n",
              "              style=\"display:none;\">\n",
              "        \n",
              "  <svg xmlns=\"http://www.w3.org/2000/svg\" height=\"24px\"viewBox=\"0 0 24 24\"\n",
              "       width=\"24px\">\n",
              "    <path d=\"M0 0h24v24H0V0z\" fill=\"none\"/>\n",
              "    <path d=\"M18.56 5.44l.94 2.06.94-2.06 2.06-.94-2.06-.94-.94-2.06-.94 2.06-2.06.94zm-11 1L8.5 8.5l.94-2.06 2.06-.94-2.06-.94L8.5 2.5l-.94 2.06-2.06.94zm10 10l.94 2.06.94-2.06 2.06-.94-2.06-.94-.94-2.06-.94 2.06-2.06.94z\"/><path d=\"M17.41 7.96l-1.37-1.37c-.4-.4-.92-.59-1.43-.59-.52 0-1.04.2-1.43.59L10.3 9.45l-7.72 7.72c-.78.78-.78 2.05 0 2.83L4 21.41c.39.39.9.59 1.41.59.51 0 1.02-.2 1.41-.59l7.78-7.78 2.81-2.81c.8-.78.8-2.07 0-2.86zM5.41 20L4 18.59l7.72-7.72 1.47 1.35L5.41 20z\"/>\n",
              "  </svg>\n",
              "      </button>\n",
              "      \n",
              "  <style>\n",
              "    .colab-df-container {\n",
              "      display:flex;\n",
              "      flex-wrap:wrap;\n",
              "      gap: 12px;\n",
              "    }\n",
              "\n",
              "    .colab-df-convert {\n",
              "      background-color: #E8F0FE;\n",
              "      border: none;\n",
              "      border-radius: 50%;\n",
              "      cursor: pointer;\n",
              "      display: none;\n",
              "      fill: #1967D2;\n",
              "      height: 32px;\n",
              "      padding: 0 0 0 0;\n",
              "      width: 32px;\n",
              "    }\n",
              "\n",
              "    .colab-df-convert:hover {\n",
              "      background-color: #E2EBFA;\n",
              "      box-shadow: 0px 1px 2px rgba(60, 64, 67, 0.3), 0px 1px 3px 1px rgba(60, 64, 67, 0.15);\n",
              "      fill: #174EA6;\n",
              "    }\n",
              "\n",
              "    [theme=dark] .colab-df-convert {\n",
              "      background-color: #3B4455;\n",
              "      fill: #D2E3FC;\n",
              "    }\n",
              "\n",
              "    [theme=dark] .colab-df-convert:hover {\n",
              "      background-color: #434B5C;\n",
              "      box-shadow: 0px 1px 3px 1px rgba(0, 0, 0, 0.15);\n",
              "      filter: drop-shadow(0px 1px 2px rgba(0, 0, 0, 0.3));\n",
              "      fill: #FFFFFF;\n",
              "    }\n",
              "  </style>\n",
              "\n",
              "      <script>\n",
              "        const buttonEl =\n",
              "          document.querySelector('#df-752b4bef-bcdb-4823-b0b1-f72412e8c574 button.colab-df-convert');\n",
              "        buttonEl.style.display =\n",
              "          google.colab.kernel.accessAllowed ? 'block' : 'none';\n",
              "\n",
              "        async function convertToInteractive(key) {\n",
              "          const element = document.querySelector('#df-752b4bef-bcdb-4823-b0b1-f72412e8c574');\n",
              "          const dataTable =\n",
              "            await google.colab.kernel.invokeFunction('convertToInteractive',\n",
              "                                                     [key], {});\n",
              "          if (!dataTable) return;\n",
              "\n",
              "          const docLinkHtml = 'Like what you see? Visit the ' +\n",
              "            '<a target=\"_blank\" href=https://colab.research.google.com/notebooks/data_table.ipynb>data table notebook</a>'\n",
              "            + ' to learn more about interactive tables.';\n",
              "          element.innerHTML = '';\n",
              "          dataTable['output_type'] = 'display_data';\n",
              "          await google.colab.output.renderOutput(dataTable, element);\n",
              "          const docLink = document.createElement('div');\n",
              "          docLink.innerHTML = docLinkHtml;\n",
              "          element.appendChild(docLink);\n",
              "        }\n",
              "      </script>\n",
              "    </div>\n",
              "  </div>\n",
              "  "
            ],
            "text/plain": [
              "     Lifetime Post Consumers like  id\n",
              "61                       513   12   1\n",
              "13                       134   11   2\n",
              "183                     1956   17   3\n",
              "38                      5202   16   4\n",
              "479                     1078    7   5"
            ]
          },
          "metadata": {},
          "execution_count": 24
        }
      ]
    },
    {
      "cell_type": "code",
      "source": [
        "X = X_processed  # Same we used for regression\n",
        "y = y_df['like'].values.T"
      ],
      "metadata": {
        "id": "P9_KtC-nxFeg"
      },
      "execution_count": null,
      "outputs": []
    },
    {
      "cell_type": "code",
      "source": [
        "_ = sns.histplot(y, kde=False)"
      ],
      "metadata": {
        "colab": {
          "base_uri": "https://localhost:8080/",
          "height": 265
        },
        "id": "VIww_no2xJYU",
        "outputId": "74317664-1c4d-4a64-d33a-6373d702f1fe"
      },
      "execution_count": null,
      "outputs": [
        {
          "output_type": "display_data",
          "data": {
            "image/png": "[encoded data removed]",
            "text/plain": [
              "<Figure size 432x288 with 1 Axes>"
            ]
          },
          "metadata": {
            "needs_background": "light"
          }
        }
      ]
    },
    {
      "cell_type": "code",
      "source": [
        "dummy_clf = DummyClassifier(strategy='stratified')\n",
        "dummy_clf.fit(X_processed, y)\n",
        "print(\"Dummy ACC: %.2f\" % acc(y, dummy_clf.predict(X_processed)))"
      ],
      "metadata": {
        "colab": {
          "base_uri": "https://localhost:8080/"
        },
        "id": "BeuhkBDMxN-b",
        "outputId": "5529cc8c-6d66-4d15-b779-12cac1f05485"
      },
      "execution_count": null,
      "outputs": [
        {
          "output_type": "stream",
          "name": "stdout",
          "text": [
            "Dummy ACC: 0.04\n"
          ]
        }
      ]
    },
    {
      "cell_type": "code",
      "source": [
        "clf = ExtraTreesClassifier(n_estimators=1000, max_depth=4)\n",
        "scores = cross_val_score(clf, X_processed, y, cv=10, scoring=make_scorer(acc))  # cross-validation\n",
        "print(\"ACC: %.2f +/- %.2f\" % (scores.mean(), scores.std()))"
      ],
      "metadata": {
        "colab": {
          "base_uri": "https://localhost:8080/"
        },
        "id": "erG-6xNmxSG1",
        "outputId": "d798b5a3-f018-48f3-8855-de2065497414"
      },
      "execution_count": null,
      "outputs": [
        {
          "output_type": "stream",
          "name": "stdout",
          "text": [
            "ACC: 0.08 +/- 0.03\n"
          ]
        }
      ]
    },
    {
      "cell_type": "code",
      "source": [
        "# Fit the model\n",
        "clf.fit(X_processed, y)\n",
        "\n",
        "# Let's see the feature importances for our classifier\n",
        "importances = clf.feature_importances_\n",
        "std = np.std([tree.feature_importances_ for tree in clf.estimators_],\n",
        "             axis=0)\n",
        "indices = np.argsort(importances)[::-1]\n",
        "print(indices)\n",
        "# Let's get the attibute names:\n",
        "extra_attribs = ['Post Month', 'Post Hour', 'Post Weekday', 'Paid']  # the ones we didn't modify in the transformer\n",
        "cat_encoder = colTransformer.named_transformers_['cat']\n",
        "cat_oho_attributes = oho_categories = [item for sublist in cat_encoder.categories_ for item in sublist]\n",
        "feat_names = num_features + cat_oho_attributes + extra_attribs\n",
        "\n",
        "# Print the feature ranking\n",
        "print(\"Feature ranking:\")\n",
        "for f in range(X_processed.shape[1]):\n",
        "    print(\"%d. %s (%f)\" % (f + 1, feat_names[indices[f]],  importances[indices[f]]))\n",
        "\n",
        "# Plot the feature importances of the forest\n",
        "fig = plt.figure()\n",
        "plt.title(\"Feature importances\")\n",
        "plt.bar(range(X.shape[1]), importances[indices], color=\"r\", yerr=std[indices], align=\"center\")\n",
        "plt.xticks(range(X.shape[1]), np.array(feat_names)[indices])\n",
        "plt.xlim([-1, X.shape[1]])\n",
        "plt.ylim([0, None])\n",
        "\n",
        "fig.set_size_inches(15, 8)"
      ],
      "metadata": {
        "colab": {
          "base_uri": "https://localhost:8080/",
          "height": 742
        },
        "id": "UURgLTJ_xcmR",
        "outputId": "b266d5eb-7853-4fb4-97fd-025ed72437aa"
      },
      "execution_count": null,
      "outputs": [
        {
          "output_type": "stream",
          "name": "stdout",
          "text": [
            "[10  1  8  0  9  4  5  6  3 11  2  7]\n",
            "Feature ranking:\n",
            "1. Post Weekday (0.139618)\n",
            "2. 1 (0.138401)\n",
            "3. Post Month (0.110862)\n",
            "4. Page total likes (0.108788)\n",
            "5. Post Hour (0.098647)\n",
            "6. Link (0.096797)\n",
            "7. Photo (0.061770)\n",
            "8. Status (0.061281)\n",
            "9. 3 (0.060865)\n",
            "10. Paid (0.060248)\n",
            "11. 2 (0.041192)\n",
            "12. Video (0.021530)\n"
          ]
        },
        {
          "output_type": "display_data",
          "data": {
            "image/png": "[encoded data removed]",
            "text/plain": [
              "<Figure size 1080x576 with 1 Axes>"
            ]
          },
          "metadata": {
            "needs_background": "light"
          }
        }
      ]
    },
    {
      "cell_type": "markdown",
      "source": [
        "Now we could try dropping some of the less useful features, or check the errors made by our system. Let's check the confusion matrix."
      ],
      "metadata": {
        "id": "DkqAwYd6x39e"
      }
    },
    {
      "cell_type": "code",
      "source": [
        "# Get prediction on the test set\n",
        "# Remember we need to do the same operations we did for the training test!\n",
        "df_test = test_set.copy()\n",
        "print('Size of test set: %d' % len(df_test))\n",
        "# Drop rows with nans\n",
        "df_test = df_test.dropna()\n",
        "print(\"Number of rows after dropping NaNs: %d\" % len(df_test))"
      ],
      "metadata": {
        "colab": {
          "base_uri": "https://localhost:8080/"
        },
        "id": "Fm1wJgTTx490",
        "outputId": "cb715fb7-a4a9-477a-9bea-9f946f49145d"
      },
      "execution_count": null,
      "outputs": [
        {
          "output_type": "stream",
          "name": "stdout",
          "text": [
            "Size of test set: 100\n",
            "Number of rows after dropping NaNs: 99\n"
          ]
        }
      ]
    },
    {
      "cell_type": "code",
      "source": [
        "# Separate features from outcomes\n",
        "y_test_df = df_test[outcomes_of_interest].copy()\n",
        "X_test_df = df_test[features].copy()\n",
        "# Transform features\n",
        "X_test = colTransformer.transform(X_test_df)\n",
        "assert X_test.shape[1] == X_processed.shape[1]  # same number of features"
      ],
      "metadata": {
        "id": "dMBMepnQx-Eb"
      },
      "execution_count": null,
      "outputs": []
    },
    {
      "cell_type": "code",
      "source": [
        "# Make y into categories\n",
        "y_test_df['like'] = pd.cut(y_test_df['like'], bins=bins, include_lowest=True)  # the bins previously returned by pd.qcut()\n",
        "y_test_df['like'] = outcomesLabelEncoder.transform(y_test_df['like'])\n",
        "y_test = y_test_df.values.T[1]  # lifetime post consumers"
      ],
      "metadata": {
        "id": "VvgbhqQUyDjS"
      },
      "execution_count": null,
      "outputs": []
    },
    {
      "cell_type": "code",
      "source": [
        "# Predict\n",
        "test_predictions = clf.predict(X_test)\n",
        "# What's the accuracy on the test set?\n",
        "acc(y_test, test_predictions)"
      ],
      "metadata": {
        "colab": {
          "base_uri": "https://localhost:8080/"
        },
        "id": "WYWpiFNQyIVF",
        "outputId": "fbdfdcfd-3a92-4121-ce16-82dfea6fcfc0"
      },
      "execution_count": null,
      "outputs": [
        {
          "output_type": "execute_result",
          "data": {
            "text/plain": [
              "0.09090909090909091"
            ]
          },
          "metadata": {},
          "execution_count": 33
        }
      ]
    },
    {
      "cell_type": "code",
      "source": [
        "def plot_confusion_matrix(cm, classes,\n",
        "                          normalize=True,\n",
        "                          title='Confusion matrix',\n",
        "                          cmap=plt.cm.Blues):\n",
        "    \"\"\"\n",
        "    This function prints and plots the confusion matrix.\n",
        "    Normalization can be applied by setting `normalize=True`.\n",
        "    \"\"\"\n",
        "    if normalize:\n",
        "        cm = cm.astype('float') / cm.sum(axis=1)[:, np.newaxis]\n",
        "        print(\"Normalized confusion matrix\")\n",
        "    else:\n",
        "        print('Confusion matrix, without normalization')\n",
        "    plt.imshow(cm, interpolation='nearest', cmap=cmap)\n",
        "    plt.title(title)\n",
        "    plt.colorbar()\n",
        "    tick_marks = np.arange(len(classes))\n",
        "    plt.xticks(tick_marks, classes, rotation=45)\n",
        "    plt.yticks(tick_marks, classes)\n",
        "    thresh = cm.max() / 2.\n",
        "    for i, j in itertools.product(range(cm.shape[0]), range(cm.shape[1])):\n",
        "        t = \"(%.2f)\"%(cm[i, j])\n",
        "    plt.tight_layout()\n",
        "    plt.ylabel('True label')\n",
        "    plt.xlabel('Predicted label')"
      ],
      "metadata": {
        "id": "qv_wXDtHyO4Z"
      },
      "execution_count": null,
      "outputs": []
    },
    {
      "cell_type": "code",
      "source": [
        "c = confusion_matrix(y_test, test_predictions)\n",
        "plot_confusion_matrix(c, outcomesLabelEncoder.classes_)"
      ],
      "metadata": {
        "colab": {
          "base_uri": "https://localhost:8080/",
          "height": 328
        },
        "id": "kwlWW0vXyTRo",
        "outputId": "50102e84-cd54-4318-e274-cb8ec967bf69"
      },
      "execution_count": null,
      "outputs": [
        {
          "output_type": "stream",
          "name": "stdout",
          "text": [
            "Normalized confusion matrix\n"
          ]
        },
        {
          "output_type": "display_data",
          "data": {
            "image/png": "[encoded data removed]",
            "text/plain": [
              "<Figure size 432x288 with 2 Axes>"
            ]
          },
          "metadata": {
            "needs_background": "light"
          }
        }
      ]
    },
    {
      "cell_type": "markdown",
      "source": [
        "A good classifier would have high values (i.e., dark blue) on the main diagonal, and low (i.e., light) values elsewhere. In this case, we are not observing that! The accuracy was very low (8%, which is just marginally better than random), so the fact that the results are so bad as seen on the confusion matrix makes sense."
      ],
      "metadata": {
        "id": "hholPnfZyZLO"
      }
    }
  ]
}